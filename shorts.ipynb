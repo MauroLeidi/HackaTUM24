{
 "cells": [
  {
   "cell_type": "code",
   "execution_count": 1,
   "metadata": {},
   "outputs": [],
   "source": [
    "import pandas as pd\n",
    "\n",
    "news_articles = pd.read_csv('data/news_articles.csv')"
   ]
  },
  {
   "cell_type": "code",
   "execution_count": 6,
   "metadata": {},
   "outputs": [],
   "source": [
    "topic = news_articles.iloc[0][\"content\"]"
   ]
  },
  {
   "cell_type": "code",
   "execution_count": 40,
   "metadata": {},
   "outputs": [
    {
     "data": {
      "text/plain": [
       "'Follow us today... It is interesting that J.D. Power is giving the 2024 Dodge Daytona Charger EV its J.D. Power 2025 U.S. ALG Residual Value Award in the electric vehicle segment. The Charger EV isn’t even out yet, but the auto experts are expecting great things from the new vehicle. The Charger EV will be Dodge’s first EV. The Jeep Gladiator ranks No. 1 for residual value among midsize pickups. The Jeep Wagoneer earns award for best residual value among large SUVs for third consecutive year. Why J.D. Power is Ranking the Dodge Charger Daytona #1 The J.D. Power annual award projects which vehicle models will hold the highest percentage of their manufacturer’s suggested retail price following a three-year period of ownership. The first edition of any vehicle is often a collector’s edition but J.D Power is banking on the Charger EV holding its value as well as the gas-powered versions do. \"The last-generation Dodge Charger won ALG Residual Value Awards for eight consecutive years, from 2015 to 2022, and this next generation is picking up right where it left off, winning its segment.\" said Matt Thompson, head of U.S. retail sales, Stellantis North America. \"The brand-new Dodge Charger Daytona showcases the future of muscle cars, bringing together the instant torque and fun of an electric car with the unmistakable muscle car styling and heritage of a Dodge Charger. Strong performance, competitive pricing and unmistakable styling make it the winner of the Electric Car segment.” said Danny Battaglia, managing director of ALG customer success at J.D. Power. The 2024 Dodge Charger Daytona EV The 2024 Dodge Charger Daytona Scat Pack will keep Dodge’s title as the world’s quickest and most powerful muscle car with 670 horsepower and 627 lb.-ft. of torque. The Dodge Charger Daytona will have an all-electric, 400-volt dual motor system, delivering high-horsepower performance through standard all-wheel drive. The Dodge Charger Daytona is an interesting experiment because Dodge has created a special Fratzonic Chambered Exhaust system to replicate a muscle car sound for the EV. Current and previous generations of muscle cars were defined by the loud revving engines. Dodge realized right away that to be a muscle car, an EV needed an identifiable engine rumble. I have covered the evolution of the EV muscle car since Dodge first proposed it two years ago. The Dodge Charger Daytona Scat Pack with its 670 horsepower will have an astounding 627 lb.-ft. of torque. The Scat Pack version reaches 0-60 mph in 3.3 seconds while running the quarter-mile in an estimated 11.5 seconds. The Dodge Charger Daytona R/T model will kick out 496 horsepower and 404 lb.-ft. of torque. The all-electric two-door Charger Daytona models are part of the Charger’s multi-energy lineup, which will include all-electric four-door Charger Daytona models as well as gas-powered Dodge Charger SIXPACK H.O. and Charger SIXPACK S.O. vehicles. Jeep Gladiator and Jeep Wagoneer Also Receive Top Residual Value Awards The Jeep Gladiator ranks No. 1 for residual value among midsize pickups, marking the third time Gladiator has earned a J.D. Power award. The Jeep Wagoneer also takes home the award for best residual value among large SUVs for third consecutive year. Matt Thompson, head of U.S. retail sales, Stellantis North America, praised both vehicles. \"Additionally, the Jeep brand is celebrating a three-peat for the Jeep Wagoneer, now the most affordable full-size SUV in America, and the Gladiator, which remains the only pickup truck in the industry with open-air freedom, featuring a folding windshield, three removable roof choices and removable doors.\" Danny Battaglia, managing director of ALG customer success at J.D. Power, added, \"Jeep Wagoneer delivers the iconic Jeep design characteristics in conjunction with an extremely competitive pricing and many luxury features. This strong value proposition helped the Wagoneer to win the Residual Value Award in the large SUVs segment. Jeep Gladiator seamlessly blends tradition and innovation. Gladiator provides the capability of a pickup, the adventure of a true off-road vehicle in a competitive price leading it to win the Residual Value Award in the midsize pickup segment.” The Jeep Wrangler, Grand Cherokee and Wagoneer L all ranked No. 2 in their catagories, while Ram ProMaster ranked second in the commercial van category. Dodge Photo Mary Conway is a professional automotive journalist and has decades of experience specializing in automotive news analysis. She covered the Detroit Three for more than twenty years for the ABC affiliate, in Detroit. Her affection for the Motor City comes naturally. Her father ran a gas station while Mary was growing up, in Wisconsin. Follow Mary Conway at @MaryConwayMedia and send her car news tips for future stories.'"
      ]
     },
     "execution_count": 40,
     "metadata": {},
     "output_type": "execute_result"
    }
   ],
   "source": [
    "topic"
   ]
  },
  {
   "cell_type": "code",
   "execution_count": 27,
   "metadata": {},
   "outputs": [],
   "source": [
    "# create pydantic class with texts\n",
    "from pydantic import BaseModel\n",
    "from typing import List\n",
    "\n",
    "class Texts(BaseModel):\n",
    "    text: str\n",
    "\n",
    "class NewsArticle(BaseModel):\n",
    "    output: List[Texts]\n",
    "\n"
   ]
  },
  {
   "cell_type": "code",
   "execution_count": 57,
   "metadata": {},
   "outputs": [],
   "source": [
    "from openai import OpenAI\n",
    "from dotenv import load_dotenv\n",
    "\n",
    "load_dotenv()\n",
    "def generate_voiceover_texts(topic):\n",
    "    \"\"\"\n",
    "    Generate four captivating sentences about a topic using OpenAI's GPT-4.\n",
    "    \n",
    "    Args:\n",
    "        topic (str): The topic to generate sentences about\n",
    "    \"\"\"\n",
    "    client = OpenAI()\n",
    "    \n",
    "    prompt = f\"\"\"Create 4 captivating, emotionally engaging short sentences about the news below. Requirements:\n",
    "     - Each sentence MUST be 10-15 words maximum\n",
    "    - Use active voice and strong verbs\n",
    "    - Focus on one key point per sentence\n",
    "    - Avoid complex clauses or conjunctions\n",
    "    - Include details and numbers where relevant\n",
    "    - End with a powerful message or call to action\n",
    "    \n",
    "    Format the output as 4 separate sentences.\n",
    "    \n",
    "    Example flow:\n",
    "    [\"Introduction and hook\", \"Key benefits or developments\", \"Practical impact or application\", \"Future outlook and call to action\"]\n",
    "    \n",
    "    News:\n",
    "    {topic}\"\"\"\n",
    "\n",
    "    response = client.beta.chat.completions.parse(\n",
    "        model=\"gpt-4o\",\n",
    "        messages=[\n",
    "            {\"role\": \"system\", \"content\": \"You are an expert storyteller and marketing copywriter.\"},\n",
    "            {\"role\": \"user\", \"content\": prompt}\n",
    "        ],\n",
    "        response_format=NewsArticle\n",
    "    )\n",
    "    \n",
    "    # Split the response into individual sentences\n",
    "    json_str = response.choices[0].message.parsed\n",
    "    return json_str.output"
   ]
  },
  {
   "cell_type": "code",
   "execution_count": 58,
   "metadata": {},
   "outputs": [],
   "source": [
    "texts = generate_voiceover_texts(topic)"
   ]
  },
  {
   "cell_type": "code",
   "execution_count": 59,
   "metadata": {},
   "outputs": [
    {
     "data": {
      "text/plain": [
       "[\"Dodge Charger Daytona EV wins J.D. Power's 2025 Residual Value Award for electric cars.\",\n",
       " 'Jeep Gladiator secures top position in midsize pickup residual value ranking.',\n",
       " 'Jeep Wagoneer claims best large SUV residual value award three years running.',\n",
       " 'Follow these groundbreaking vehicles reshaping the auto industry; witness the future unfold.']"
      ]
     },
     "execution_count": 59,
     "metadata": {},
     "output_type": "execute_result"
    }
   ],
   "source": [
    "voiceover_texts = [text.text for text in texts]\n",
    "voiceover_texts"
   ]
  },
  {
   "cell_type": "code",
   "execution_count": null,
   "metadata": {},
   "outputs": [
    {
     "name": "stdout",
     "output_type": "stream",
     "text": [
      "[{'id': '5fe45a4e-651a-4999-bfec-df6991461051', 'status': 'planned', 'url': 'https://cdn.creatomate.com/renders/5fe45a4e-651a-4999-bfec-df6991461051.mp4', 'snapshot_url': 'https://cdn.creatomate.com/snapshots/5fe45a4e-651a-4999-bfec-df6991461051.jpg', 'template_id': '16dcc861-b57e-41ac-a83e-ba5623697051', 'template_name': 'Short-Form Voice Over', 'template_tags': [], 'output_format': 'mp4', 'modifications': {'Image-1': 'https://creatomate.com/files/assets/6e448991-32c0-46ff-9043-d0a74fd99b41', 'Image-2': 'https://creatomate.com/files/assets/0f1547eb-647e-429c-a04a-b414d2e2657b', 'Image-3': 'https://creatomate.com/files/assets/08ffb646-af54-4e91-9b38-3eae161fb770', 'Image-4': 'https://creatomate.com/files/assets/e0063a09-ab39-4a41-9c11-359cb339a3db', 'Voiceover-1': \"Dodge Charger Daytona EV wins J.D. Power's 2025 Residual Value Award for electric cars.\", 'Voiceover-2': 'Jeep Gladiator secures top position in midsize pickup residual value ranking.', 'Voiceover-3': 'Jeep Wagoneer claims best large SUV residual value award three years running.', 'Voiceover-4': 'Follow these groundbreaking vehicles reshaping the auto industry; witness the future unfold.'}}]\n"
     ]
    }
   ],
   "source": [
    "import requests\n",
    "import os\n",
    "from dotenv import load_dotenv\n",
    "\n",
    "load_dotenv()\n",
    "\n",
    "def create_render(texts):\n",
    "    \"\"\"\n",
    "    Create a render using the Creatomate API with a list of voiceover texts.\n",
    "    \n",
    "    Args:\n",
    "        texts (list): List of 4 strings for voiceover texts\n",
    "    \"\"\"\n",
    "    url = \"https://api.creatomate.com/v1/renders\"\n",
    "    headers = {\n",
    "       \"Authorization\": f\"Bearer {os.getenv('CREATOMATE_API_KEY')}\",\n",
    "        \"Content-Type\": \"application/json\"\n",
    "    }\n",
    "    \n",
    "    # Define the image URLs\n",
    "    images = {\n",
    "        \"Image-1\": \"https://creatomate.com/files/assets/6e448991-32c0-46ff-9043-d0a74fd99b41\",\n",
    "        \"Image-2\": \"https://creatomate.com/files/assets/0f1547eb-647e-429c-a04a-b414d2e2657b\",\n",
    "        \"Image-3\": \"https://creatomate.com/files/assets/08ffb646-af54-4e91-9b38-3eae161fb770\",\n",
    "        \"Image-4\": \"https://creatomate.com/files/assets/e0063a09-ab39-4a41-9c11-359cb339a3db\",\n",
    "    }\n",
    "\n",
    "    \n",
    "    # Create modifications dictionary combining images and voiceovers\n",
    "    modifications = {\n",
    "        **images,  # Unpack the images dictionary\n",
    "        **{f\"Voiceover-{i+1}\": text for i, text in enumerate(texts)}  # Add voiceover texts\n",
    "    }\n",
    "    \n",
    "    payload = {\n",
    "        \"template_id\": \"16dcc861-b57e-41ac-a83e-ba5623697051\",\n",
    "        \"modifications\": modifications\n",
    "    }\n",
    "    \n",
    "    response = requests.post(url, headers=headers, json=payload)\n",
    "    return response.json()\n",
    "\n",
    "# Make the API call\n",
    "result = create_render(voiceover_texts)\n",
    "print(result)"
   ]
  },
  {
   "cell_type": "code",
   "execution_count": null,
   "metadata": {},
   "outputs": [],
   "source": []
  }
 ],
 "metadata": {
  "kernelspec": {
   "display_name": "rag",
   "language": "python",
   "name": "python3"
  },
  "language_info": {
   "codemirror_mode": {
    "name": "ipython",
    "version": 3
   },
   "file_extension": ".py",
   "mimetype": "text/x-python",
   "name": "python",
   "nbconvert_exporter": "python",
   "pygments_lexer": "ipython3",
   "version": "3.11.9"
  }
 },
 "nbformat": 4,
 "nbformat_minor": 2
}
