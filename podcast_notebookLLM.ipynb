{
 "cells": [
  {
   "cell_type": "markdown",
   "metadata": {
    "id": "7ySYEQAd_JGZ"
   },
   "source": [
    "Get your API Key and User id here - https://play.ai/developers\n",
    "\n",
    "Docs - https://docs.play.ai/playnote-api-reference/endpoints/v1/playnotes/post"
   ]
  },
  {
   "cell_type": "code",
   "execution_count": null,
   "metadata": {
    "id": "GFOXR6SD_rkf"
   },
   "outputs": [],
   "source": [
    "import requests\n",
    "import os\n",
    "from google.colab import userdata\n",
    "from dotenv import load_dotenv\n",
    "\n",
    "load_dotenv()\n",
    "\n",
    "\n",
    "# Define the URL of your PDF file\n",
    "SOURCE_FILE_URL = \"https://raw.githubusercontent.com/ogimgio/web_scraping_xxxx/42035d5f173f0a28c2be036cd1539432d994f74e/localhost.pdf\"\n",
    "\n",
    "# PlayNote API URL\n",
    "url = \"https://api.play.ai/api/v1/playnotes\"\n",
    "\n",
    "# Retrieve API key and User ID from environment variables\n",
    "api_key = os.getenv(\"PLAY_API_KEY\")\n",
    "user_id = os.getenv(\"PLAY_USER_ID\")\n",
    "\n",
    "# Set up headers with authorization details\n",
    "headers = {\n",
    "    'AUTHORIZATION': api_key,\n",
    "    'X-USER-ID': user_id,\n",
    "    'accept': 'application/json'\n",
    "}"
   ]
  },
  {
   "cell_type": "code",
   "execution_count": null,
   "metadata": {
    "colab": {
     "base_uri": "https://localhost:8080/"
    },
    "id": "3BKliDQG_zFf",
    "outputId": "ae02165b-776f-474e-b561-edcddca57768"
   },
   "outputs": [],
   "source": [
    "# Configure the request parameters\n",
    "files = {\n",
    "    'sourceFileUrl': (None, SOURCE_FILE_URL),\n",
    "    'synthesisStyle': (None, 'podcast'),\n",
    "    'voice1': (None, 's3://voice-cloning-zero-shot/baf1ef41-36b6-428c-9bdf-50ba54682bd8/original/manifest.json'),\n",
    "    'voice1Name': (None, 'Egor'),\n",
    "    'voice2': (None, 's3://voice-cloning-zero-shot/e040bd1b-f190-4bdb-83f0-75ef85b18f84/original/manifest.json'),\n",
    "    'voice2Name': (None, 'Patricia'),\n",
    "}\n",
    "\n",
    "# Send the POST request\n",
    "response = requests.post(url, headers=headers, files=files)\n",
    "\n",
    "# Check the response\n",
    "if response.status_code == 201:\n",
    "    print(\"Request sent successfully!\")\n",
    "    playNoteId = response.json().get('id')\n",
    "    print(f\"Generated PlayNote ID: {playNoteId}\")\n",
    "else:\n",
    "    print(f\"Failed to generate PlayNote: {response.text}\")\n",
    "\n"
   ]
  },
  {
   "cell_type": "code",
   "execution_count": null,
   "metadata": {
    "id": "7v_F2hadO5Vh"
   },
   "outputs": [],
   "source": [
    "#playNoteId = 'bT7guWFAMLnote_1732368584738_5g63b'\n",
    "playNoteId = '9YKy8MLO1wnote_1732378792235_2l66c'\n",
    "#playNoteId = 'XkOnvOd_Wonote_1732047370309_4eqb6'"
   ]
  },
  {
   "cell_type": "code",
   "execution_count": null,
   "metadata": {
    "colab": {
     "base_uri": "https://localhost:8080/"
    },
    "id": "T5rytFQB_7YW",
    "outputId": "6a1f66af-7f81-4021-9aee-760982e9dccb"
   },
   "outputs": [],
   "source": [
    "import urllib.parse\n",
    "\n",
    "# Double encode the PlayNoteId\n",
    "double_encoded_id = urllib.parse.quote(playNoteId, safe='')\n",
    "\n",
    "# Construct the final URL\n",
    "url = f\"https://api.play.ai/api/v1/playnotes/{double_encoded_id}\"\n",
    "\n",
    "#print(url)  # Output: https://api.play.ai/api/v1/playnotes/LangChain%27s%2520Second%2520Birthday.pdf\n",
    "\n",
    "response = requests.request(\"GET\", url, headers=headers)\n",
    "if response.status_code == 200:\n",
    "    if response.json()['status'] == 'completed':\n",
    "        print(response.json()['audioUrl'])\n",
    "    elif response.json()['status'] == 'generating':\n",
    "        print('Please wait while your PlayNote is being generated and Try again later! ')\n",
    "    else:\n",
    "        print(response.json())\n",
    "        print('PlayNote Creation was not successful, Please try again')\n",
    "else:\n",
    "    print(response.text)"
   ]
  },
  {
   "cell_type": "code",
   "execution_count": null,
   "metadata": {
    "colab": {
     "base_uri": "https://localhost:8080/"
    },
    "id": "ghSmLyWWBsRJ",
    "outputId": "7835bbdb-cc25-4af5-c3c0-a392608d26cc"
   },
   "outputs": [],
   "source": [
    "!wget -O output.wav {response.json()['audioUrl']}"
   ]
  },
  {
   "cell_type": "code",
   "execution_count": null,
   "metadata": {
    "colab": {
     "base_uri": "https://localhost:8080/",
     "height": 75
    },
    "id": "DSeUWy4cC3qG",
    "outputId": "0178c5ee-5940-40b6-d497-fe86b2166a78"
   },
   "outputs": [],
   "source": [
    "from IPython.display import Audio\n",
    "#wn = Audio(response.json()['audioUrl'], autoplay=True)\n",
    "wn = Audio('output.wav', autoplay=True)\n",
    "display(wn)"
   ]
  },
  {
   "cell_type": "code",
   "execution_count": null,
   "metadata": {
    "id": "ErbCwZxkGU9_"
   },
   "outputs": [],
   "source": []
  }
 ],
 "metadata": {
  "colab": {
   "provenance": []
  },
  "kernelspec": {
   "display_name": "Python 3",
   "name": "python3"
  },
  "language_info": {
   "name": "python"
  }
 },
 "nbformat": 4,
 "nbformat_minor": 0
}
