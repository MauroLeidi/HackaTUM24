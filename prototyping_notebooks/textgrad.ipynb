{
 "cells": [
  {
   "cell_type": "code",
   "execution_count": 1,
   "metadata": {},
   "outputs": [],
   "source": [
    "# Load the autoreload extension\n",
    "%load_ext autoreload\n",
    "\n",
    "# Set autoreload mode to 2 (reload all modules before executing code)\n",
    "%autoreload 2\n",
    "import textgrad as tg\n",
    "import sys\n",
    "sys.path.append('../')\n",
    "from schemas import ArticleRequest\n",
    "import numpy as np\n",
    "import random\n",
    "import concurrent\n",
    "from tqdm import tqdm\n",
    "import os\n",
    "import pandas as pd\n",
    "from sklearn.model_selection import train_test_split\n",
    "from textgrad.autograd.string_based_ops import StringBasedFunction\n",
    "from summary_and_feedback_generation.evaluation_dimensions import (\n",
    "    textgrad_get_feedback,\n",
    "    dimension_name_to_prompt_qa,\n",
    "    verbal_feedback_to_score,\n",
    ")\n",
    "from summary_and_feedback_generation.summary_generation import (\n",
    "    SUMMARY_GENERATOR_USER_PROMPT_TEMPLATE\n",
    ")\n",
    "import asyncio\n",
    "from textgrad.autograd.string_based_ops import StringBasedFunction\n",
    "from jinja2 import Template\n",
    "#~~~To Set Environment Variables~~~\n",
    "#os.environ['AZURE_OPENAI_API_KEY'] = ''\n",
    "#os.environ['AZURE_OPENAI_ENDPOINT'] = 'https://hackatum-2024.openai.azure.com/'\n",
    "\n",
    "\n"
   ]
  },
  {
   "cell_type": "code",
   "execution_count": 2,
   "metadata": {},
   "outputs": [],
   "source": [
    "# ~~~ Temporary fix to get mauros data ~~~ \n",
    "n_groups = 10\n",
    "data = pd.read_csv('../data/df_with_embedding_and_groups.csv')\n",
    "groups = data[\"group\"].unique()\n",
    "# exclude nan from groups\n",
    "groups = groups[~pd.isnull(groups)]\n",
    "grouped_data = [data[data[\"group\"] == group] for group in groups]\n",
    "limit_to_max_n_prompts = 2\n",
    "prompts = []\n",
    "for df in grouped_data:\n",
    "    prompt = \"\"\n",
    "    for i, row in df.iterrows():\n",
    "        \n",
    "        if limit_to_max_n_prompts is not None and i >= limit_to_max_n_prompts:\n",
    "            break\n",
    "        \n",
    "        prompt +=  Template(SUMMARY_GENERATOR_USER_PROMPT_TEMPLATE).render(\n",
    "            title = row.get(\"title\", \"Title Missing\"),\n",
    "            description = row.get(\"description\", \"Description Missing\"),\n",
    "            content = row.get(\"content\", \"Content Missing\"),\n",
    "        )\n",
    "        \n",
    "    prompts.append(prompt)\n",
    "\n",
    "\n"
   ]
  },
  {
   "cell_type": "code",
   "execution_count": 3,
   "metadata": {},
   "outputs": [
    {
     "data": {
      "text/plain": [
       "'\\n<ARTICLE>\\n<TITLE> Der erste Aral-Ladepark steht in Mönchengladbach <\\\\TITLE>\\n<DESCRIPTION> <div><img src=\"https://media1.faz.net/ppmedia/aktuell/2738962894/1.10123981/twitter_teaser_fplus/erste-liga-arals-ladepark-in.jpg\" style=\"width: 100%;\" /><div>Große Ladeparks kommen in Mode. Für Pkw und Lkw. Aral hat jetzt eine Station in Mönchengladbach eröffnet, mit 28 Ladepunkten. Milence kümmert sich um die Lkw.</div></div> <\\\\DESCRIPTION>\\n<CONTENT> Ladepark folgt auf Ladepark : Blaupause für die blaue Pause Von Boris Schmidt 22.11.2024, 19:18 Lesezeit: 5 Min. Erste Liga: Arals Ladepark in Mönchengladbach mit 28 Stromzapfstellen. Das Dach besteht aus Solarzellen. Hersteller Große Ladeparks kommen in Mode. Für Pkw und Lkw. Aral hat jetzt eine Station in Mönchengladbach eröffnet, mit 28 Ladepunkten. Milence kümmert sich um die Lkw. <\\\\CONTENT>\\n<\\\\ARTICLE>'"
      ]
     },
     "execution_count": 3,
     "metadata": {},
     "output_type": "execute_result"
    }
   ],
   "source": [
    "prompts[0]"
   ]
  },
  {
   "cell_type": "markdown",
   "metadata": {},
   "source": [
    "# Prompt Optimization With TextGrad"
   ]
  },
  {
   "cell_type": "code",
   "execution_count": 4,
   "metadata": {},
   "outputs": [],
   "source": [
    "#~~Helper functions~~#\n",
    "def load_task(grouped_data):\n",
    "    \n",
    "    indices = np.array(range(len(grouped_data)))\n",
    "    \n",
    "    train_indices, test_indices = train_test_split(indices, test_size=0.4)\n",
    "    test_indices, val_indices = train_test_split(test_indices, test_size=0.5)\n",
    "    \n",
    "    train_data = [grouped_data[i] for i in train_indices]\n",
    "    val_data = [grouped_data[i] for i in val_indices]\n",
    "    test_data = [grouped_data[i] for i in test_indices]\n",
    "    \n",
    "\n",
    "    fn_purpose = \"The runtime of string-based function that checks if the prediction is correct.\"\n",
    "    eval_fn_text = StringBasedFunction(critique_feedback, function_purpose=fn_purpose)\n",
    "    eval_fn_score = StringBasedFunction(critique_score, function_purpose=fn_purpose)\n",
    "    return train_data, val_data, test_data, eval_fn_text, eval_fn_score\n",
    "    \n",
    "\n",
    "def critique_score(prediction):\n",
    "\n",
    "    dimension_names = dimension_name_to_prompt_qa.keys()\n",
    "\n",
    "                \n",
    "    results = [\n",
    "        textgrad_get_feedback(prediction, dimension_name)\n",
    "        for dimension_name in dimension_names\n",
    "    ]\n",
    "    \n",
    "    article_quality = 0\n",
    "    \n",
    "    # Append the results to the feedback dictionary\n",
    "    for dim_name, feedback in zip(dimension_names, results):\n",
    "        article_quality += verbal_feedback_to_score[feedback.news_meets_standards.lower()]\n",
    "    \n",
    "    article_quality = int(article_quality)\n",
    "\n",
    "    return article_quality\n",
    "\n",
    "def critique_feedback(prediction):\n",
    "    dimension_names = dimension_name_to_prompt_qa.keys()\n",
    "       \n",
    "    results = [\n",
    "        textgrad_get_feedback(prediction, dimension_name)\n",
    "        for dimension_name in dimension_names\n",
    "    ]\n",
    "        \n",
    "    feedback_str = \"Feedback: \\n\"\n",
    "    # Append the results to the feedback dictionary\n",
    "    for dim_name, feedback in zip(dimension_names, results):\n",
    "        feedback_str += f\"{dim_name}: {feedback.critique}\\n\"\n",
    "\n",
    "    return feedback_str\n",
    "\n",
    "\n",
    "def set_seed(seed):\n",
    "    np.random.seed(seed)\n",
    "    random.seed(seed)\n",
    "\n",
    "#TODO: EDIT THIS FUNCTION TO USE THE NEW SCHEMA\n",
    "def eval_sample(item, eval_fn, model):\n",
    "    \"\"\"\n",
    "    This function allows us to evaluate if an answer to a question in the prompt is a good answer.\n",
    "\n",
    "    \"\"\"\n",
    "    x = item\n",
    "    x = tg.Variable(x, requires_grad=False, role_description=\"query to the language model\")\n",
    "    response = model(x)\n",
    "    eval_output_variable = eval_fn(inputs=dict(prediction=response))\n",
    "    return int(eval_output_variable.value)\n",
    "\n",
    "    \n",
    "def eval_dataset(test_set, eval_fn, model, max_samples: int=None):\n",
    "    if max_samples is None:\n",
    "        max_samples = len(test_set)\n",
    "    accuracy_list = []\n",
    "    for _, sample in enumerate(test_set):\n",
    "        res = eval_sample(sample, eval_fn, model)\n",
    "        accuracy_list.append(res)\n",
    "        if len(accuracy_list) >= max_samples:\n",
    "            break      \n",
    "    return accuracy_list \n",
    "\n",
    "def run_validation_revert(system_prompt: tg.Variable, results, model, eval_fn, val_set):\n",
    "    val_performance = np.mean(eval_dataset(val_set, eval_fn, model))\n",
    "    previous_performance = np.mean(results[\"validation_reward\"][-1])\n",
    "    print(\"val_performance: \", val_performance)\n",
    "    print(\"previous_performance: \", previous_performance)\n",
    "    previous_prompt = results[\"prompt\"][-1]\n",
    "    \n",
    "    if val_performance < previous_performance:\n",
    "        print(f\"rejected prompt: {system_prompt.value}\")\n",
    "        system_prompt.set_value(previous_prompt)\n",
    "        val_performance = previous_performance\n",
    "\n",
    "    results[\"validation_reward\"].append(val_performance)"
   ]
  },
  {
   "cell_type": "code",
   "execution_count": 5,
   "metadata": {},
   "outputs": [
    {
     "name": "stdout",
     "output_type": "stream",
     "text": [
      "Train/Val/Test Set Lengths:  6 2 2\n"
     ]
    }
   ],
   "source": [
    "set_seed(12)\n",
    "llm_api_eval = tg.get_engine(engine_name=\"gpt-4o\")\n",
    "llm_api_test = tg.get_engine(engine_name=\"gpt-4o\")\n",
    "tg.set_backward_engine(llm_api_eval, override=True)\n",
    "\n",
    "# Load the data and the evaluation function\n",
    "train_set, val_set, test_set, eval_fn_text, eval_fn_score =  load_task(prompts)\n",
    "print(\"Train/Val/Test Set Lengths: \", len(train_set), len(val_set), len(test_set))\n",
    "STARTING_SYSTEM_PROMPT = \"\"\"\n",
    "You are a skilled journalist tasked with writing an article for an online newspaper that specializes in Electric Vehicle (EV) content. Your goal is to create a new and engaging article that combines the information from the following articles. \n",
    "\n",
    "Please generate a new article that:\n",
    "- Combines key insights from the provided articles into a single, cohesive, and interesting piece. Feel free to select the most interesting information, and filter out what is not necessary.\n",
    "- The article should be informative, engaging, and written in a journalistic style.\n",
    "- Use markdown syntax for the article, including headings, subheadings, and paragraphs.\n",
    "\n",
    "Your output should be a complete article in markdown format, with the image inserted at an appropriate location.\n",
    "The article will be provided <ARTICLE> <\\ARTICLE> tags. Within the <ARTICLE> tag there are can also the following tags <TITLE> <\\TITLE>, <CONTENT> <\\CONTENT> and <DESCRIPTION> <\\DESCRIPTION> which will provide the title and content of the article respectively.\n",
    "Note that articles may be provided in various languages but keep your critique in English.\n",
    "\n",
    "\"\"\""
   ]
  },
  {
   "cell_type": "code",
   "execution_count": 6,
   "metadata": {},
   "outputs": [],
   "source": [
    "\n",
    "# Testing the 0-shot performance of the evaluation engine\n",
    "system_prompt = tg.Variable(STARTING_SYSTEM_PROMPT, \n",
    "                            requires_grad=True, \n",
    "                            role_description=\"system prompt to the language model\")\n",
    "\n",
    "model_evaluation = tg.BlackboxLLM(llm_api_eval, system_prompt)\n",
    "\n",
    "system_prompt = tg.Variable(STARTING_SYSTEM_PROMPT, \n",
    "                            requires_grad=True,\n",
    "                            role_description=\"structured system prompt to a somewhat capable language model that specifies the behavior and strategies for the QA task\")\n",
    "model = tg.BlackboxLLM(llm_api_test, system_prompt)\n",
    "\n",
    "optimizer = tg.TextualGradientDescent(engine=llm_api_eval, parameters=[system_prompt])\n",
    "\n",
    "results = {\"test_reward\": [], \"prompt\": [], \"validation_reward\": []}\n",
    "results[\"test_reward\"].append(eval_dataset(test_set, eval_fn_score, model))\n",
    "results[\"validation_reward\"].append(np.mean(eval_dataset(val_set, eval_fn_score, model)))\n",
    "results[\"prompt\"].append(system_prompt.get_value())"
   ]
  },
  {
   "cell_type": "code",
   "execution_count": 7,
   "metadata": {},
   "outputs": [
    {
     "data": {
      "text/plain": [
       "{'test_reward': [[6, 6]],\n",
       " 'prompt': ['\\nYou are a skilled journalist tasked with writing an article for an online newspaper that specializes in Electric Vehicle (EV) content. Your goal is to create a new and engaging article that combines the information from the following articles. \\n\\nPlease generate a new article that:\\n- Combines key insights from the provided articles into a single, cohesive, and interesting piece. Feel free to select the most interesting information, and filter out what is not necessary.\\n- The article should be informative, engaging, and written in a journalistic style.\\n- Use markdown syntax for the article, including headings, subheadings, and paragraphs.\\n\\nYour output should be a complete article in markdown format, with the image inserted at an appropriate location.\\nThe article will be provided <ARTICLE> <\\\\ARTICLE> tags. Within the <ARTICLE> tag there are can also the following tags <TITLE> <\\\\TITLE>, <CONTENT> <\\\\CONTENT> and <DESCRIPTION> <\\\\DESCRIPTION> which will provide the title and content of the article respectively.\\nNote that articles may be provided in various languages but keep your critique in English.\\n\\n'],\n",
       " 'validation_reward': [[3, 6]]}"
      ]
     },
     "execution_count": 7,
     "metadata": {},
     "output_type": "execute_result"
    }
   ],
   "source": [
    "results"
   ]
  },
  {
   "cell_type": "code",
   "execution_count": 8,
   "metadata": {},
   "outputs": [
    {
     "name": "stderr",
     "output_type": "stream",
     "text": [
      "Training step 0. Epoch 0:   0%|          | 0/6 [00:00<?, ?it/s]"
     ]
    },
    {
     "name": "stderr",
     "output_type": "stream",
     "text": [
      "Training step 3. Epoch 0:  50%|█████     | 3/6 [00:39<00:39, 13.31s/it]"
     ]
    },
    {
     "name": "stdout",
     "output_type": "stream",
     "text": [
      "val_performance:  10.0\n",
      "previous_performance:  4.5\n",
      "sys prompt:  You are a skilled journalist tasked with writing an article for an online newspaper that specializes in Electric Vehicle (EV) content. Your goal is to create a new and engaging article that combines the information from the following articles.\n",
      "\n",
      "Please generate a new article that:\n",
      "- Combines key insights from the provided articles into a single, cohesive, and interesting piece. Feel free to select the most interesting information, and filter out what is not necessary.\n",
      "- The article should be informative, engaging, and written in a journalistic style.\n",
      "- Use markdown syntax for the article, including headings, subheadings, and paragraphs.\n",
      "\n",
      "Your output should be a complete article in markdown format, with the image inserted at an appropriate location. The article will be provided <ARTICLE> <\\ARTICLE> tags. Within the <ARTICLE> tag there are can also the following tags <TITLE> <\\TITLE>, <CONTENT> <\\CONTENT> and <DESCRIPTION> <\\DESCRIPTION> which will provide the title and content of the article respectively.\n",
      "\n",
      "To enhance originality and depth:\n",
      "- Explore niche innovations, emerging technologies, or specific case studies within the EV industry.\n",
      "- Incorporate expert opinions, hypothetical interviews, or quotes from industry leaders to add unique perspectives.\n",
      "\n",
      "To tailor content for specific audience sub-groups:\n",
      "- Provide detailed comparisons of EV models for potential buyers or discuss specific environmental benefits for advocates.\n",
      "\n",
      "To incorporate up-to-date information:\n",
      "- Use recent studies, industry reports, or authoritative sources to support claims and cite specific studies or reports.\n",
      "\n",
      "To enhance clarity and engagement:\n",
      "- Use storytelling elements or real-world examples to illustrate the impact of EVs on individuals or communities.\n",
      "\n",
      "To highlight quality and professionalism:\n",
      "- Generate an author bio or credentials, emphasizing expertise in the automotive field.\n",
      "- Disclose any use of AI tools in content creation to enhance transparency and trust.\n",
      "\n",
      "To ensure trust and accuracy:\n",
      "- Provide specific figures, data, or expert commentary to substantiate claims and incorporate quotes from industry experts or references to authoritative studies.\n",
      "\n",
      "Note that articles may be provided in various languages but keep your critique in English.\n",
      "test_rewards [[6, 6]]\n"
     ]
    },
    {
     "name": "stderr",
     "output_type": "stream",
     "text": [
      "Training step 4. Epoch 0:  67%|██████▋   | 4/6 [03:47<02:44, 82.04s/it]"
     ]
    },
    {
     "name": "stdout",
     "output_type": "stream",
     "text": [
      "test_rewards [[6, 6], [12, 12]]\n"
     ]
    },
    {
     "name": "stderr",
     "output_type": "stream",
     "text": [
      "Training step 5. Epoch 0: 100%|██████████| 6/6 [04:22<00:00, 43.75s/it]\n",
      "Training step 3. Epoch 1:  50%|█████     | 3/6 [00:46<00:46, 15.61s/it]"
     ]
    },
    {
     "name": "stdout",
     "output_type": "stream",
     "text": [
      "val_performance:  11.0\n",
      "previous_performance:  10.0\n",
      "sys prompt:  You are a skilled journalist tasked with writing an article for an online newspaper that specializes in Electric Vehicle (EV) content. Your goal is to create a new and engaging article that combines the information from the following articles.\n",
      "\n",
      "Please generate a new article that:\n",
      "- Combines key insights from the provided articles into a single, cohesive, and interesting piece. Feel free to select the most interesting information, and filter out what is not necessary.\n",
      "- The article should be informative, engaging, and written in a journalistic style.\n",
      "- Use markdown syntax for the article, including headings, subheadings, and paragraphs.\n",
      "\n",
      "Your output should be a complete article in markdown format, with the image inserted at an appropriate location. The article will be provided <ARTICLE> <\\ARTICLE> tags. Within the <ARTICLE> tag there are can also the following tags <TITLE> <\\TITLE>, <CONTENT> <\\CONTENT> and <DESCRIPTION> <\\DESCRIPTION> which will provide the title and content of the article respectively.\n",
      "\n",
      "To enhance originality and depth:\n",
      "- Explore niche innovations, emerging technologies, or specific case studies within the EV industry, including lesser-known startups or emerging markets.\n",
      "- Incorporate expert opinions, hypothetical interviews, or quotes from industry leaders to add unique perspectives, including critical or alternative viewpoints.\n",
      "\n",
      "To tailor content for specific audience sub-groups:\n",
      "- Provide detailed comparisons of EV models for potential buyers or discuss specific environmental benefits for advocates, fleet managers, or urban planners.\n",
      "\n",
      "To incorporate up-to-date information:\n",
      "- Use recent studies, industry reports, or authoritative sources to support claims and cite specific studies or reports. Include a \"latest news\" section or a timeline of technological advancements.\n",
      "\n",
      "To enhance clarity and engagement:\n",
      "- Use storytelling elements or real-world examples to illustrate the impact of EVs on individuals or communities. Consider adding interactive elements such as infographics or videos.\n",
      "\n",
      "To highlight quality and professionalism:\n",
      "- Generate an author bio or credentials, emphasizing expertise in the automotive field.\n",
      "- Disclose any use of AI tools in content creation to enhance transparency and trust, providing a detailed explanation of their role and limitations.\n",
      "\n",
      "To ensure trust and accuracy:\n",
      "- Provide specific figures, data, or expert commentary to substantiate claims and incorporate quotes from industry experts or references to authoritative studies. Include links to original studies or data sources for verification.\n",
      "\n",
      "To address reader concerns and misconceptions:\n",
      "- Dedicate a section to debunking myths or addressing common questions about electric vehicles to enhance relevance and audience impact.\n",
      "\n",
      "Note that articles may be provided in various languages but keep your critique in English.\n",
      "test_rewards [[6, 6], [12, 12]]\n"
     ]
    },
    {
     "name": "stderr",
     "output_type": "stream",
     "text": [
      "Training step 4. Epoch 1:  67%|██████▋   | 4/6 [04:43<03:25, 102.91s/it]"
     ]
    },
    {
     "name": "stdout",
     "output_type": "stream",
     "text": [
      "test_rewards [[6, 6], [12, 12], [9, 8]]\n"
     ]
    },
    {
     "name": "stderr",
     "output_type": "stream",
     "text": [
      "Training step 5. Epoch 1: 100%|██████████| 6/6 [05:22<00:00, 53.82s/it] \n"
     ]
    }
   ],
   "source": [
    "accumulate_grad_steps = 3\n",
    "losses = []\n",
    "for epoch in range(2):\n",
    "    for steps, x in enumerate((pbar := tqdm(train_set, position=0))):\n",
    "        pbar.set_description(f\"Training step {steps}. Epoch {epoch}\")\n",
    "        \n",
    "      \n",
    "        x = tg.Variable(x, requires_grad=False, role_description=\"query to the language model\")\n",
    "    \n",
    "        response = model(x)\n",
    "        \n",
    "        eval_output_variable = eval_fn_text(inputs=dict(prediction=response))\n",
    "        \n",
    "        losses.append(eval_output_variable)\n",
    "        \n",
    "        if steps % accumulate_grad_steps == 0 and not (steps == 0 and epoch == 0):\n",
    "            total_loss = tg.sum(losses)\n",
    "            total_loss.backward()\n",
    "            optimizer.step()\n",
    "        \n",
    "            run_validation_revert(system_prompt, results, model, eval_fn_score, val_set)\n",
    "        \n",
    "            print(\"sys prompt: \", system_prompt)\n",
    "            print(\"test_rewards\", results[\"test_reward\"])\n",
    "            test_acc = eval_dataset(test_set, eval_fn_score, model)\n",
    "            results[\"test_reward\"].append(test_acc)\n",
    "            results[\"prompt\"].append(system_prompt.get_value())\n",
    "            print(\"test_rewards\", results[\"test_reward\"])\n",
    "            \n",
    "            optimizer.zero_grad()\n",
    "            losses = []\n",
    "     "
   ]
  },
  {
   "cell_type": "code",
   "execution_count": 9,
   "metadata": {},
   "outputs": [
    {
     "data": {
      "text/plain": [
       "['\\nYou are a skilled journalist tasked with writing an article for an online newspaper that specializes in Electric Vehicle (EV) content. Your goal is to create a new and engaging article that combines the information from the following articles. \\n\\nPlease generate a new article that:\\n- Combines key insights from the provided articles into a single, cohesive, and interesting piece. Feel free to select the most interesting information, and filter out what is not necessary.\\n- The article should be informative, engaging, and written in a journalistic style.\\n- Use markdown syntax for the article, including headings, subheadings, and paragraphs.\\n\\nYour output should be a complete article in markdown format, with the image inserted at an appropriate location.\\nThe article will be provided <ARTICLE> <\\\\ARTICLE> tags. Within the <ARTICLE> tag there are can also the following tags <TITLE> <\\\\TITLE>, <CONTENT> <\\\\CONTENT> and <DESCRIPTION> <\\\\DESCRIPTION> which will provide the title and content of the article respectively.\\nNote that articles may be provided in various languages but keep your critique in English.\\n\\n',\n",
       " 'You are a skilled journalist tasked with writing an article for an online newspaper that specializes in Electric Vehicle (EV) content. Your goal is to create a new and engaging article that combines the information from the following articles.\\n\\nPlease generate a new article that:\\n- Combines key insights from the provided articles into a single, cohesive, and interesting piece. Feel free to select the most interesting information, and filter out what is not necessary.\\n- The article should be informative, engaging, and written in a journalistic style.\\n- Use markdown syntax for the article, including headings, subheadings, and paragraphs.\\n\\nYour output should be a complete article in markdown format, with the image inserted at an appropriate location. The article will be provided <ARTICLE> <\\\\ARTICLE> tags. Within the <ARTICLE> tag there are can also the following tags <TITLE> <\\\\TITLE>, <CONTENT> <\\\\CONTENT> and <DESCRIPTION> <\\\\DESCRIPTION> which will provide the title and content of the article respectively.\\n\\nTo enhance originality and depth:\\n- Explore niche innovations, emerging technologies, or specific case studies within the EV industry.\\n- Incorporate expert opinions, hypothetical interviews, or quotes from industry leaders to add unique perspectives.\\n\\nTo tailor content for specific audience sub-groups:\\n- Provide detailed comparisons of EV models for potential buyers or discuss specific environmental benefits for advocates.\\n\\nTo incorporate up-to-date information:\\n- Use recent studies, industry reports, or authoritative sources to support claims and cite specific studies or reports.\\n\\nTo enhance clarity and engagement:\\n- Use storytelling elements or real-world examples to illustrate the impact of EVs on individuals or communities.\\n\\nTo highlight quality and professionalism:\\n- Generate an author bio or credentials, emphasizing expertise in the automotive field.\\n- Disclose any use of AI tools in content creation to enhance transparency and trust.\\n\\nTo ensure trust and accuracy:\\n- Provide specific figures, data, or expert commentary to substantiate claims and incorporate quotes from industry experts or references to authoritative studies.\\n\\nNote that articles may be provided in various languages but keep your critique in English.',\n",
       " 'You are a skilled journalist tasked with writing an article for an online newspaper that specializes in Electric Vehicle (EV) content. Your goal is to create a new and engaging article that combines the information from the following articles.\\n\\nPlease generate a new article that:\\n- Combines key insights from the provided articles into a single, cohesive, and interesting piece. Feel free to select the most interesting information, and filter out what is not necessary.\\n- The article should be informative, engaging, and written in a journalistic style.\\n- Use markdown syntax for the article, including headings, subheadings, and paragraphs.\\n\\nYour output should be a complete article in markdown format, with the image inserted at an appropriate location. The article will be provided <ARTICLE> <\\\\ARTICLE> tags. Within the <ARTICLE> tag there are can also the following tags <TITLE> <\\\\TITLE>, <CONTENT> <\\\\CONTENT> and <DESCRIPTION> <\\\\DESCRIPTION> which will provide the title and content of the article respectively.\\n\\nTo enhance originality and depth:\\n- Explore niche innovations, emerging technologies, or specific case studies within the EV industry, including lesser-known startups or emerging markets.\\n- Incorporate expert opinions, hypothetical interviews, or quotes from industry leaders to add unique perspectives, including critical or alternative viewpoints.\\n\\nTo tailor content for specific audience sub-groups:\\n- Provide detailed comparisons of EV models for potential buyers or discuss specific environmental benefits for advocates, fleet managers, or urban planners.\\n\\nTo incorporate up-to-date information:\\n- Use recent studies, industry reports, or authoritative sources to support claims and cite specific studies or reports. Include a \"latest news\" section or a timeline of technological advancements.\\n\\nTo enhance clarity and engagement:\\n- Use storytelling elements or real-world examples to illustrate the impact of EVs on individuals or communities. Consider adding interactive elements such as infographics or videos.\\n\\nTo highlight quality and professionalism:\\n- Generate an author bio or credentials, emphasizing expertise in the automotive field.\\n- Disclose any use of AI tools in content creation to enhance transparency and trust, providing a detailed explanation of their role and limitations.\\n\\nTo ensure trust and accuracy:\\n- Provide specific figures, data, or expert commentary to substantiate claims and incorporate quotes from industry experts or references to authoritative studies. Include links to original studies or data sources for verification.\\n\\nTo address reader concerns and misconceptions:\\n- Dedicate a section to debunking myths or addressing common questions about electric vehicles to enhance relevance and audience impact.\\n\\nNote that articles may be provided in various languages but keep your critique in English.']"
      ]
     },
     "execution_count": 9,
     "metadata": {},
     "output_type": "execute_result"
    }
   ],
   "source": [
    "results[\"prompt\"]"
   ]
  },
  {
   "cell_type": "code",
   "execution_count": 10,
   "metadata": {},
   "outputs": [
    {
     "data": {
      "text/plain": [
       "[[6, 6], [12, 12], [9, 8]]"
      ]
     },
     "execution_count": 10,
     "metadata": {},
     "output_type": "execute_result"
    }
   ],
   "source": [
    "results[\"test_reward\"]"
   ]
  },
  {
   "cell_type": "code",
   "execution_count": 11,
   "metadata": {},
   "outputs": [
    {
     "name": "stdout",
     "output_type": "stream",
     "text": [
      "['\\nYou are a skilled journalist tasked with writing an article for an online newspaper that specializes in Electric Vehicle (EV) content. Your goal is to create a new and engaging article that combines the information from the following articles. \\n\\nPlease generate a new article that:\\n- Combines key insights from the provided articles into a single, cohesive, and interesting piece. Feel free to select the most interesting information, and filter out what is not necessary.\\n- The article should be informative, engaging, and written in a journalistic style.\\n- Use markdown syntax for the article, including headings, subheadings, and paragraphs.\\n\\nYour output should be a complete article in markdown format, with the image inserted at an appropriate location.\\nThe article will be provided <ARTICLE> <\\\\ARTICLE> tags. Within the <ARTICLE> tag there are can also the following tags <TITLE> <\\\\TITLE>, <CONTENT> <\\\\CONTENT> and <DESCRIPTION> <\\\\DESCRIPTION> which will provide the title and content of the article respectively.\\nNote that articles may be provided in various languages but keep your critique in English.\\n\\n', 'You are a skilled journalist tasked with writing an article for an online newspaper that specializes in Electric Vehicle (EV) content. Your goal is to create a new and engaging article that combines the information from the following articles.\\n\\nPlease generate a new article that:\\n- Combines key insights from the provided articles into a single, cohesive, and interesting piece. Feel free to select the most interesting information, and filter out what is not necessary.\\n- The article should be informative, engaging, and written in a journalistic style.\\n- Use markdown syntax for the article, including headings, subheadings, and paragraphs.\\n\\nYour output should be a complete article in markdown format, with the image inserted at an appropriate location. The article will be provided <ARTICLE> <\\\\ARTICLE> tags. Within the <ARTICLE> tag there are can also the following tags <TITLE> <\\\\TITLE>, <CONTENT> <\\\\CONTENT> and <DESCRIPTION> <\\\\DESCRIPTION> which will provide the title and content of the article respectively.\\n\\nTo enhance originality and depth:\\n- Explore niche innovations, emerging technologies, or specific case studies within the EV industry.\\n- Incorporate expert opinions, hypothetical interviews, or quotes from industry leaders to add unique perspectives.\\n\\nTo tailor content for specific audience sub-groups:\\n- Provide detailed comparisons of EV models for potential buyers or discuss specific environmental benefits for advocates.\\n\\nTo incorporate up-to-date information:\\n- Use recent studies, industry reports, or authoritative sources to support claims and cite specific studies or reports.\\n\\nTo enhance clarity and engagement:\\n- Use storytelling elements or real-world examples to illustrate the impact of EVs on individuals or communities.\\n\\nTo highlight quality and professionalism:\\n- Generate an author bio or credentials, emphasizing expertise in the automotive field.\\n- Disclose any use of AI tools in content creation to enhance transparency and trust.\\n\\nTo ensure trust and accuracy:\\n- Provide specific figures, data, or expert commentary to substantiate claims and incorporate quotes from industry experts or references to authoritative studies.\\n\\nNote that articles may be provided in various languages but keep your critique in English.', 'You are a skilled journalist tasked with writing an article for an online newspaper that specializes in Electric Vehicle (EV) content. Your goal is to create a new and engaging article that combines the information from the following articles.\\n\\nPlease generate a new article that:\\n- Combines key insights from the provided articles into a single, cohesive, and interesting piece. Feel free to select the most interesting information, and filter out what is not necessary.\\n- The article should be informative, engaging, and written in a journalistic style.\\n- Use markdown syntax for the article, including headings, subheadings, and paragraphs.\\n\\nYour output should be a complete article in markdown format, with the image inserted at an appropriate location. The article will be provided <ARTICLE> <\\\\ARTICLE> tags. Within the <ARTICLE> tag there are can also the following tags <TITLE> <\\\\TITLE>, <CONTENT> <\\\\CONTENT> and <DESCRIPTION> <\\\\DESCRIPTION> which will provide the title and content of the article respectively.\\n\\nTo enhance originality and depth:\\n- Explore niche innovations, emerging technologies, or specific case studies within the EV industry, including lesser-known startups or emerging markets.\\n- Incorporate expert opinions, hypothetical interviews, or quotes from industry leaders to add unique perspectives, including critical or alternative viewpoints.\\n\\nTo tailor content for specific audience sub-groups:\\n- Provide detailed comparisons of EV models for potential buyers or discuss specific environmental benefits for advocates, fleet managers, or urban planners.\\n\\nTo incorporate up-to-date information:\\n- Use recent studies, industry reports, or authoritative sources to support claims and cite specific studies or reports. Include a \"latest news\" section or a timeline of technological advancements.\\n\\nTo enhance clarity and engagement:\\n- Use storytelling elements or real-world examples to illustrate the impact of EVs on individuals or communities. Consider adding interactive elements such as infographics or videos.\\n\\nTo highlight quality and professionalism:\\n- Generate an author bio or credentials, emphasizing expertise in the automotive field.\\n- Disclose any use of AI tools in content creation to enhance transparency and trust, providing a detailed explanation of their role and limitations.\\n\\nTo ensure trust and accuracy:\\n- Provide specific figures, data, or expert commentary to substantiate claims and incorporate quotes from industry experts or references to authoritative studies. Include links to original studies or data sources for verification.\\n\\nTo address reader concerns and misconceptions:\\n- Dedicate a section to debunking myths or addressing common questions about electric vehicles to enhance relevance and audience impact.\\n\\nNote that articles may be provided in various languages but keep your critique in English.']\n"
     ]
    }
   ],
   "source": [
    "print(results[\"prompt\"])"
   ]
  },
  {
   "cell_type": "code",
   "execution_count": 12,
   "metadata": {},
   "outputs": [],
   "source": [
    "prompts = [\n",
    "    \"You are a skilled journalist tasked with writing an article for an online newspaper that specializes in Electric Vehicle (EV) content. Your goal is to create a new and engaging article that combines the information from the following articles. \\n\\nPlease generate a new article that:\\n- Combines key insights from the provided articles into a single, cohesive, and interesting piece. Feel free to select the most interesting information, and filter out what is not necessary.\\n- The article should be informative, engaging, and written in a journalistic style.\\n- Use markdown syntax for the article, including headings, subheadings, and paragraphs.\\n- Insert the image at a location that makes sense, such as in the middle or at the top of the article, where it supports the content.\\n- Use the image in markdown format: `![image]<<IMAGE_URL_HERE>>`.\\n\\n\\nYour output should be a complete article in markdown format, with the image inserted at an appropriate location.\\nThe article will be provided <ARTICLE> <\\\\ARTICLE> tags. Within the <ARTICLE> tag there are can also the following tags <TITLE> <\\\\TITLE>, <CONTENT> <\\\\CONTENT> and <DESCRIPTION> <\\\\DESCRIPTION> which will provide the title and content of the article respectively.\\nNote that articles may be provided in various languages but keep your critique in English.\\n\\n\",\n",
    "    \"You are a skilled journalist tasked with writing an article for an online newspaper that specializes in Electric Vehicle (EV) content. Your goal is to create a new and engaging article that combines the information from the following articles.\\n\\nPlease generate a new article that:\\n- Combines key insights from the provided articles into a single, cohesive, and interesting piece. Feel free to select the most interesting information, and filter out what is not necessary.\\n- Incorporate unique insights and original analysis by including expert opinions, case studies, or interviews with industry leaders. Include at least two quotes or insights from industry experts or urban planners to add depth and originality. Explore less-discussed topics, such as the socio-economic impacts on diverse urban demographics, the role of EVs in rural areas, and the impact of EVs on urban planning or the role of renewable energy in charging infrastructure.\\n- Tailor content for different audience segments by creating sections that cater to specific groups, such as potential EV buyers, environmental advocates, or automotive enthusiasts. Identify and discuss region-specific challenges or opportunities, such as local government incentives or infrastructure limitations.\\n- Use up-to-date information and data, mentioning recent model releases, advancements in solid-state batteries, or specific policy changes in major markets. Incorporate recent studies or reports with specific citations and discuss recent policy changes or market predictions to provide a forward-looking perspective.\\n- Enhance clarity and structure with interactive elements such as infographics, charts, or sidebars to summarize key points or data. Include interactive elements such as infographics or interactive maps to visualize EV infrastructure growth. Use markdown syntax for these elements to ensure proper formatting.\\n- Promote professionalism and transparency by including information about the author's credentials and expertise in the automotive industry. Disclose any use of AI tools or automation in the article's creation, detailing the AI tools used and their specific contributions to the content.\\n- Emphasize trust and accuracy by referencing specific studies, data, or expert sources to bolster the article's accuracy and authoritative nature. Ensure all claims are backed by peer-reviewed studies or expert verification. Indicate whether sources for claims were verified by experts or peer-reviewed studies to enhance credibility.\\n- Include a section on potential future developments in EV technology and urban planning, supported by expert opinions or forecasts.\\n- Simplify technical jargon by providing definitions or a glossary for technical terms like 'solid-state batteries' to ensure accessibility for all readers.\\n- Improve clarity by adding a requirement for a summary or key takeaways section at the end to help readers quickly grasp the main points.\\n\\nThe article should be informative, engaging, and written in a journalistic style. Use markdown syntax for the article, including headings, subheadings, and paragraphs. Insert the image at a location that makes sense, such as in the middle or at the top of the article, where it supports the content. Use the image in markdown format: `![image]<<IMAGE_URL_HERE>>`.\\n\\nYour output should be a complete article in markdown format, with the image inserted at an appropriate location. The article will be provided <ARTICLE> <\\\\ARTICLE> tags. Within the <ARTICLE> tag there are can also the following tags <TITLE> <\\\\TITLE>, <CONTENT> <\\\\CONTENT> and <DESCRIPTION> <\\\\DESCRIPTION> which will provide the title and content of the article respectively. Note that articles may be provided in various languages but keep your critique in English.\",\n",
    "    \"You are a skilled journalist tasked with writing an article for an online newspaper that specializes in Electric Vehicle (EV) content. Your goal is to create a new and engaging article that combines the information from the following articles.\\n\\nPlease generate a new article that:\\n- Combines key insights from the provided articles into a single, cohesive, and interesting piece. Feel free to select the most interesting information, and filter out what is not necessary.\\n- Incorporate unique insights and original analysis by including expert opinions, case studies, or interviews with industry leaders. Include at least two quotes or insights from industry experts or urban planners to add depth and originality. Explore less-discussed topics, such as the socio-economic impacts on diverse urban demographics, the role of EVs in rural areas, and the impact of EVs on urban planning or the role of renewable energy in charging infrastructure.\\n- Tailor content for different audience segments by creating sections that cater to specific groups, such as potential EV buyers, environmental advocates, or automotive enthusiasts. Identify and discuss region-specific challenges or opportunities, such as local government incentives or infrastructure limitations.\\n- Use up-to-date information and data, mentioning recent model releases, advancements in solid-state batteries, or specific policy changes in major markets. Incorporate recent studies or reports with specific citations and discuss recent policy changes or market predictions to provide a forward-looking perspective.\\n- Enhance clarity and structure with interactive elements such as infographics, charts, or sidebars to summarize key points or data. Include interactive elements such as infographics or interactive maps to visualize EV infrastructure growth. Use markdown syntax for these elements to ensure proper formatting.\\n- Promote professionalism and transparency by including information about the author's credentials and expertise in the automotive industry. Disclose any use of AI tools or automation in the article's creation, detailing the AI tools used and their specific contributions to the content.\\n- Emphasize trust and accuracy by referencing specific studies, data, or expert sources to bolster the article's accuracy and authoritative nature. Ensure all claims are backed by peer-reviewed studies or expert verification. Indicate whether sources for claims were verified by experts or peer-reviewed studies to enhance credibility.\\n- Include a section on potential future developments in EV technology and urban planning, supported by expert opinions or forecasts.\\n- Simplify technical jargon by providing definitions or a glossary for technical terms like 'solid-state batteries' to ensure accessibility for all readers.\\n- Improve clarity by adding a requirement for a summary or key takeaways section at the end to help readers quickly grasp the main points.\\n\\nThe article should be informative, engaging, and written in a journalistic style. Use markdown syntax for the article, including headings, subheadings, and paragraphs. Insert the image at a location that makes sense, such as in the middle or at the top of the article, where it supports the content. Use the image in markdown format: `![image]<<IMAGE_URL_HERE>>`.\\n\\nYour output should be a complete article in markdown format, with the image inserted at an appropriate location. The article will be provided <ARTICLE> <\\\\ARTICLE> tags. Within the <ARTICLE> tag there are can also the following tags <TITLE> <\\\\TITLE>, <CONTENT> <\\\\CONTENT> and <DESCRIPTION> <\\\\DESCRIPTION> which will provide the title and content of the article respectively. Note that articles may be provided in various languages but keep your critique in English.\"]\n"
   ]
  },
  {
   "cell_type": "code",
   "execution_count": 13,
   "metadata": {},
   "outputs": [
    {
     "name": "stdout",
     "output_type": "stream",
     "text": [
      "You are a skilled journalist tasked with writing an article for an online newspaper that specializes in Electric Vehicle (EV) content. Your goal is to create a new and engaging article that combines the information from the following articles. \n",
      "\n",
      "Please generate a new article that:\n",
      "- Combines key insights from the provided articles into a single, cohesive, and interesting piece. Feel free to select the most interesting information, and filter out what is not necessary.\n",
      "- The article should be informative, engaging, and written in a journalistic style.\n",
      "- Use markdown syntax for the article, including headings, subheadings, and paragraphs.\n",
      "- Insert the image at a location that makes sense, such as in the middle or at the top of the article, where it supports the content.\n",
      "- Use the image in markdown format: `![image]<<IMAGE_URL_HERE>>`.\n",
      "\n",
      "\n",
      "Your output should be a complete article in markdown format, with the image inserted at an appropriate location.\n",
      "The article will be provided <ARTICLE> <\\ARTICLE> tags. Within the <ARTICLE> tag there are can also the following tags <TITLE> <\\TITLE>, <CONTENT> <\\CONTENT> and <DESCRIPTION> <\\DESCRIPTION> which will provide the title and content of the article respectively.\n",
      "Note that articles may be provided in various languages but keep your critique in English.\n",
      "\n",
      "\n"
     ]
    }
   ],
   "source": [
    "print(prompts[0])"
   ]
  },
  {
   "cell_type": "code",
   "execution_count": 14,
   "metadata": {},
   "outputs": [
    {
     "name": "stdout",
     "output_type": "stream",
     "text": [
      "You are a skilled journalist tasked with writing an article for an online newspaper that specializes in Electric Vehicle (EV) content. Your goal is to create a new and engaging article that combines the information from the following articles.\n",
      "\n",
      "Please generate a new article that:\n",
      "- Combines key insights from the provided articles into a single, cohesive, and interesting piece. Feel free to select the most interesting information, and filter out what is not necessary.\n",
      "- Incorporate unique insights and original analysis by including expert opinions, case studies, or interviews with industry leaders. Include at least two quotes or insights from industry experts or urban planners to add depth and originality. Explore less-discussed topics, such as the socio-economic impacts on diverse urban demographics, the role of EVs in rural areas, and the impact of EVs on urban planning or the role of renewable energy in charging infrastructure.\n",
      "- Tailor content for different audience segments by creating sections that cater to specific groups, such as potential EV buyers, environmental advocates, or automotive enthusiasts. Identify and discuss region-specific challenges or opportunities, such as local government incentives or infrastructure limitations.\n",
      "- Use up-to-date information and data, mentioning recent model releases, advancements in solid-state batteries, or specific policy changes in major markets. Incorporate recent studies or reports with specific citations and discuss recent policy changes or market predictions to provide a forward-looking perspective.\n",
      "- Enhance clarity and structure with interactive elements such as infographics, charts, or sidebars to summarize key points or data. Include interactive elements such as infographics or interactive maps to visualize EV infrastructure growth. Use markdown syntax for these elements to ensure proper formatting.\n",
      "- Promote professionalism and transparency by including information about the author's credentials and expertise in the automotive industry. Disclose any use of AI tools or automation in the article's creation, detailing the AI tools used and their specific contributions to the content.\n",
      "- Emphasize trust and accuracy by referencing specific studies, data, or expert sources to bolster the article's accuracy and authoritative nature. Ensure all claims are backed by peer-reviewed studies or expert verification. Indicate whether sources for claims were verified by experts or peer-reviewed studies to enhance credibility.\n",
      "- Include a section on potential future developments in EV technology and urban planning, supported by expert opinions or forecasts.\n",
      "- Simplify technical jargon by providing definitions or a glossary for technical terms like 'solid-state batteries' to ensure accessibility for all readers.\n",
      "- Improve clarity by adding a requirement for a summary or key takeaways section at the end to help readers quickly grasp the main points.\n",
      "\n",
      "The article should be informative, engaging, and written in a journalistic style. Use markdown syntax for the article, including headings, subheadings, and paragraphs. Insert the image at a location that makes sense, such as in the middle or at the top of the article, where it supports the content. Use the image in markdown format: `![image]<<IMAGE_URL_HERE>>`.\n",
      "\n",
      "Your output should be a complete article in markdown format, with the image inserted at an appropriate location. The article will be provided <ARTICLE> <\\ARTICLE> tags. Within the <ARTICLE> tag there are can also the following tags <TITLE> <\\TITLE>, <CONTENT> <\\CONTENT> and <DESCRIPTION> <\\DESCRIPTION> which will provide the title and content of the article respectively. Note that articles may be provided in various languages but keep your critique in English.\n"
     ]
    }
   ],
   "source": [
    "print(prompts[1])"
   ]
  },
  {
   "cell_type": "code",
   "execution_count": 35,
   "metadata": {},
   "outputs": [
    {
     "name": "stdout",
     "output_type": "stream",
     "text": [
      "You are a skilled journalist tasked with writing an article for an online newspaper that specializes in Electric Vehicle (EV) content. Your goal is to create a new and engaging article that combines the information from the following articles.\n",
      "\n",
      "Please generate a new article that:\n",
      "- Combines key insights from the provided articles into a single, cohesive, and interesting piece. Feel free to select the most interesting information, and filter out what is not necessary.\n",
      "- Incorporate unique insights and original analysis by including expert opinions, case studies, or interviews with industry leaders. Include at least two quotes or insights from industry experts or urban planners to add depth and originality. Explore less-discussed topics, such as the socio-economic impacts on diverse urban demographics, the role of EVs in rural areas, and the impact of EVs on urban planning or the role of renewable energy in charging infrastructure.\n",
      "- Tailor content for different audience segments by creating sections that cater to specific groups, such as potential EV buyers, environmental advocates, or automotive enthusiasts. Identify and discuss region-specific challenges or opportunities, such as local government incentives or infrastructure limitations.\n",
      "- Use up-to-date information and data, mentioning recent model releases, advancements in solid-state batteries, or specific policy changes in major markets. Incorporate recent studies or reports with specific citations and discuss recent policy changes or market predictions to provide a forward-looking perspective.\n",
      "- Enhance clarity and structure with interactive elements such as infographics, charts, or sidebars to summarize key points or data. Include interactive elements such as infographics or interactive maps to visualize EV infrastructure growth. Use markdown syntax for these elements to ensure proper formatting.\n",
      "- Promote professionalism and transparency by including information about the author's credentials and expertise in the automotive industry. Disclose any use of AI tools or automation in the article's creation, detailing the AI tools used and their specific contributions to the content.\n",
      "- Emphasize trust and accuracy by referencing specific studies, data, or expert sources to bolster the article's accuracy and authoritative nature. Ensure all claims are backed by peer-reviewed studies or expert verification. Indicate whether sources for claims were verified by experts or peer-reviewed studies to enhance credibility.\n",
      "- Include a section on potential future developments in EV technology and urban planning, supported by expert opinions or forecasts.\n",
      "- Simplify technical jargon by providing definitions or a glossary for technical terms like 'solid-state batteries' to ensure accessibility for all readers.\n",
      "- Improve clarity by adding a requirement for a summary or key takeaways section at the end to help readers quickly grasp the main points.\n",
      "\n",
      "The article should be informative, engaging, and written in a journalistic style. Use markdown syntax for the article, including headings, subheadings, and paragraphs. Insert the image at a location that makes sense, such as in the middle or at the top of the article, where it supports the content. Use the image in markdown format: `![image]<<IMAGE_URL_HERE>>`.\n",
      "\n",
      "Your output should be a complete article in markdown format, with the image inserted at an appropriate location. The article will be provided <ARTICLE> <\\ARTICLE> tags. Within the <ARTICLE> tag there are can also the following tags <TITLE> <\\TITLE>, <CONTENT> <\\CONTENT> and <DESCRIPTION> <\\DESCRIPTION> which will provide the title and content of the article respectively. Note that articles may be provided in various languages but keep your critique in English.\n"
     ]
    }
   ],
   "source": [
    "#Here is the best prompt\n",
    "print(prompts[2])"
   ]
  },
  {
   "cell_type": "code",
   "execution_count": 26,
   "metadata": {},
   "outputs": [],
   "source": [
    "results[\"validation_reward\"] = [np.mean(results[\"validation_reward\"][0]), results[\"validation_reward\"][1], results[\"validation_reward\"][2]]"
   ]
  },
  {
   "cell_type": "code",
   "execution_count": 39,
   "metadata": {},
   "outputs": [
    {
     "data": {
      "image/png": "[encoded data removed]",
      "text/plain": [
       "<Figure size 640x480 with 1 Axes>"
      ]
     },
     "metadata": {},
     "output_type": "display_data"
    }
   ],
   "source": [
    "import matplotlib.pyplot as plt\n",
    "# Data and maximal reward\n",
    "validation_reward = results[\"validation_reward\"]\n",
    "max_reward = 12\n",
    "\n",
    "# Plot the system prompt performance\n",
    "plt.plot(\n",
    "    list(range(len(validation_reward))), \n",
    "    validation_reward, \n",
    "    label=\"System Prompt Performance\"\n",
    ")\n",
    "plt.xlabel(\"Textual Update Step\")\n",
    "plt.ylabel(\"Validation Reward\")\n",
    "plt.title(\"System Prompt Performance Over Textual Update Steps\")\n",
    "\n",
    "# Add a horizontal line for the maximum reward\n",
    "plt.axhline(\n",
    "    y=max_reward, \n",
    "    linestyle=\"dotted\", \n",
    "    color=\"red\", \n",
    "    linewidth=1.5, \n",
    "    label=f\"Maximal Reward ({max_reward})\"\n",
    ")\n",
    "\n",
    "# Set x-axis ticks to integers only\n",
    "plt.xticks(ticks=list(range(len(validation_reward))), labels=list(range(len(validation_reward))))\n",
    "\n",
    "# Add a legend for clarity\n",
    "plt.legend()\n",
    "\n",
    "plt.show()"
   ]
  },
  {
   "cell_type": "code",
   "execution_count": 37,
   "metadata": {},
   "outputs": [
    {
     "data": {
      "text/plain": [
       "[[6, 6], [12, 12], [9, 8]]"
      ]
     },
     "execution_count": 37,
     "metadata": {},
     "output_type": "execute_result"
    }
   ],
   "source": [
    "results[\"test_reward\"]"
   ]
  }
 ],
 "metadata": {
  "kernelspec": {
   "display_name": "hackatum",
   "language": "python",
   "name": "python3"
  },
  "language_info": {
   "codemirror_mode": {
    "name": "ipython",
    "version": 3
   },
   "file_extension": ".py",
   "mimetype": "text/x-python",
   "name": "python",
   "nbconvert_exporter": "python",
   "pygments_lexer": "ipython3",
   "version": "3.11.10"
  }
 },
 "nbformat": 4,
 "nbformat_minor": 2
}
