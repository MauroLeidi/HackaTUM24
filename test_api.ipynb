{
 "cells": [
  {
   "cell_type": "code",
   "execution_count": 34,
   "metadata": {},
   "outputs": [],
   "source": [
    "import requests\n",
    "\n",
    "# API endpoint\n",
    "url = \"http://127.0.0.1:8000/find-image/\"\n",
    "\n",
    "# Request payload\n",
    "payload = {\n",
    "    \"description\": \"A silver Tesla Cybertruck on the highway\",  # Replace with your desired description\n",
    "    \"nimages\": 5  # Number of images to analyze\n",
    "}\n",
    "\n",
    "# Request headers\n",
    "headers = {\n",
    "    \"Content-Type\": \"application/json\"\n",
    "}\n",
    "\n",
    "# Make the POST request\n",
    "response = requests.post(url, json=payload, headers=headers)\n"
   ]
  },
  {
   "cell_type": "code",
   "execution_count": 35,
   "metadata": {},
   "outputs": [
    {
     "data": {
      "text/plain": [
       "<Response [200]>"
      ]
     },
     "execution_count": 35,
     "metadata": {},
     "output_type": "execute_result"
    }
   ],
   "source": [
    "response"
   ]
  },
  {
   "cell_type": "code",
   "execution_count": null,
   "metadata": {},
   "outputs": [],
   "source": [
    "\n",
    "# Check the response\n",
    "if response.status_code == 200:\n",
    "    print(\"Selected Image Index:\", response.json())\n",
    "else:\n",
    "    print(\"Error:\", response.status_code, response.text)\n"
   ]
  },
  {
   "cell_type": "code",
   "execution_count": 3,
   "metadata": {},
   "outputs": [],
   "source": [
    "import os\n",
    "import requests\n",
    "\n",
    "num_images = 5\n",
    "query = \"A silver Tesla Cybertruck on the highway\""
   ]
  },
  {
   "cell_type": "code",
   "execution_count": 4,
   "metadata": {},
   "outputs": [],
   "source": [
    "BING_API_KEY = os.getenv(\"BING_API_KEY\")\n",
    "\n",
    "search_url = \"https://api.bing.microsoft.com/v7.0/images/search\"\n",
    "headers = {\"Ocp-Apim-Subscription-Key\": BING_API_KEY}\n",
    "params = {\"q\": query, \"count\": num_images}\n",
    "\n",
    "response = requests.get(search_url, headers=headers, params=params)"
   ]
  },
  {
   "cell_type": "code",
   "execution_count": 5,
   "metadata": {},
   "outputs": [
    {
     "data": {
      "text/plain": [
       "<Response [200]>"
      ]
     },
     "execution_count": 5,
     "metadata": {},
     "output_type": "execute_result"
    }
   ],
   "source": [
    "response"
   ]
  },
  {
   "cell_type": "code",
   "execution_count": 6,
   "metadata": {},
   "outputs": [
    {
     "name": "stdout",
     "output_type": "stream",
     "text": [
      "https://static1.hotcarsimages.com/wordpress/wp-content/uploads/2023/04/cybertruck.jpg\n",
      "https://driveteslacanada.ca/wp-content/uploads/2019/12/Cybertruck-spotted.jpeg\n",
      "https://i.kinja-img.com/image/upload/c_fill,h_675,pg_1,q_80,w_1200/a552146a9aa390bea912ba0b3cca99e0.jpg\n",
      "https://s.yimg.com/ny/api/res/1.2/kM_ant_AFlqQAlYEszJCag--/YXBwaWQ9aGlnaGxhbmRlcjt3PTk2MDtoPTY4NA--/https://media.zenfs.com/en/business_insider_articles_888/136f90c113e2054d7fd2ac287f875d7a\n",
      "https://www.carscoops.com/wp-content/uploads/2023/02/Tesla-Cybertruck.jpg\n"
     ]
    },
    {
     "data": {
      "text/plain": [
       "[None, None, None, None, None]"
      ]
     },
     "execution_count": 6,
     "metadata": {},
     "output_type": "execute_result"
    }
   ],
   "source": [
    "results = response.json()\n",
    "image_urls = [img[\"contentUrl\"] for img in results.get(\"value\", [])[:num_images]]\n",
    "[print(url) for url in image_urls]"
   ]
  },
  {
   "cell_type": "code",
   "execution_count": 7,
   "metadata": {},
   "outputs": [],
   "source": [
    "images = []\n",
    "for url in image_urls:\n",
    "    try:\n",
    "        img_data = requests.get(url).content\n",
    "        images.append(img_data)\n",
    "    except Exception:\n",
    "        continue  # Skip if the image can't be downloaded"
   ]
  },
  {
   "cell_type": "code",
   "execution_count": 8,
   "metadata": {},
   "outputs": [],
   "source": [
    "import base64\n",
    "def convert_to_base64(image_data: bytes) -> str:\n",
    "    return base64.b64encode(image_data).decode(\"utf-8\")\n",
    "\n"
   ]
  },
  {
   "cell_type": "code",
   "execution_count": 9,
   "metadata": {},
   "outputs": [],
   "source": [
    "# Step 2: Convert images to base64\n",
    "images_base64 = [convert_to_base64(img) for img in images]"
   ]
  },
  {
   "cell_type": "code",
   "execution_count": 10,
   "metadata": {},
   "outputs": [
    {
     "ename": "NameError",
     "evalue": "name 'request' is not defined",
     "output_type": "error",
     "traceback": [
      "\u001b[0;31m---------------------------------------------------------------------------\u001b[0m",
      "\u001b[0;31mNameError\u001b[0m                                 Traceback (most recent call last)",
      "Cell \u001b[0;32mIn[10], line 3\u001b[0m\n\u001b[1;32m      1\u001b[0m prompt \u001b[38;5;241m=\u001b[39m (\n\u001b[1;32m      2\u001b[0m     \u001b[38;5;124mf\u001b[39m\u001b[38;5;124m\"\u001b[39m\u001b[38;5;124mYou are given \u001b[39m\u001b[38;5;132;01m{\u001b[39;00m\u001b[38;5;28mlen\u001b[39m(images_base64)\u001b[38;5;132;01m}\u001b[39;00m\u001b[38;5;124m images represented as base64 strings, \u001b[39m\u001b[38;5;124m\"\u001b[39m\n\u001b[0;32m----> 3\u001b[0m     \u001b[38;5;124mf\u001b[39m\u001b[38;5;124m\"\u001b[39m\u001b[38;5;124mand a description: \u001b[39m\u001b[38;5;124m'\u001b[39m\u001b[38;5;132;01m{\u001b[39;00mrequest\u001b[38;5;241m.\u001b[39mdescription\u001b[38;5;132;01m}\u001b[39;00m\u001b[38;5;124m'\u001b[39m\u001b[38;5;124m. Analyze the images and select the most relevant \u001b[39m\u001b[38;5;124m\"\u001b[39m\n\u001b[1;32m      4\u001b[0m     \u001b[38;5;124mf\u001b[39m\u001b[38;5;124m\"\u001b[39m\u001b[38;5;124mone based on the description. Respond with the index (0-based) of the chosen image.\u001b[39m\u001b[38;5;124m\"\u001b[39m\n\u001b[1;32m      5\u001b[0m )\n",
      "\u001b[0;31mNameError\u001b[0m: name 'request' is not defined"
     ]
    }
   ],
   "source": [
    "prompt = (\n",
    "    f\"You are given {len(images_base64)} images represented as base64 strings, \"\n",
    "    f\"and a description: '{request.description}'. Analyze the images and select the most relevant \"\n",
    "    f\"one based on the description. Respond with the index (0-based) of the chosen image.\"\n",
    ")"
   ]
  },
  {
   "cell_type": "code",
   "execution_count": 12,
   "metadata": {},
   "outputs": [
    {
     "ename": "AttributeError",
     "evalue": "'ParsedChatCompletion[SelectedImageIndex]' object has no attribute 'index'",
     "output_type": "error",
     "traceback": [
      "\u001b[0;31m---------------------------------------------------------------------------\u001b[0m",
      "\u001b[0;31mAttributeError\u001b[0m                            Traceback (most recent call last)",
      "Cell \u001b[0;32mIn[12], line 33\u001b[0m\n\u001b[1;32m     12\u001b[0m response \u001b[38;5;241m=\u001b[39m client\u001b[38;5;241m.\u001b[39mbeta\u001b[38;5;241m.\u001b[39mchat\u001b[38;5;241m.\u001b[39mcompletions\u001b[38;5;241m.\u001b[39mparse(\n\u001b[1;32m     13\u001b[0m     model\u001b[38;5;241m=\u001b[39m\u001b[38;5;124m\"\u001b[39m\u001b[38;5;124mgpt-4o\u001b[39m\u001b[38;5;124m\"\u001b[39m,\n\u001b[1;32m     14\u001b[0m     messages\u001b[38;5;241m=\u001b[39m[\n\u001b[0;32m   (...)\u001b[0m\n\u001b[1;32m     29\u001b[0m     response_format\u001b[38;5;241m=\u001b[39mSelectedImageIndex,  \u001b[38;5;66;03m# Enforce the integer response schema\u001b[39;00m\n\u001b[1;32m     30\u001b[0m )\n\u001b[1;32m     32\u001b[0m \u001b[38;5;66;03m# Parse the index from the response\u001b[39;00m\n\u001b[0;32m---> 33\u001b[0m chosen_index \u001b[38;5;241m=\u001b[39m \u001b[43mresponse\u001b[49m\u001b[38;5;241;43m.\u001b[39;49m\u001b[43mindex\u001b[49m\n",
      "\u001b[0;31mAttributeError\u001b[0m: 'ParsedChatCompletion[SelectedImageIndex]' object has no attribute 'index'"
     ]
    }
   ],
   "source": [
    "from openai import OpenAI\n",
    "from schemas import SelectedImageIndex,FindImage\n",
    "\n",
    "# Step 3: Prepare prompt and make API call\n",
    "prompt = (\n",
    "    f\"You are given {len(images_base64)} images represented as base64 strings, \"\n",
    "    f\"and a description: '{query}'. Analyze the images and select the most relevant \"\n",
    "    f\"one based on the description. Respond with the index (0-based) of the chosen image.\"\n",
    ")\n",
    "\n",
    "client = OpenAI()  # Instantiate OpenAI client\n",
    "response = client.beta.chat.completions.parse(\n",
    "    model=\"gpt-4o\",\n",
    "    messages=[\n",
    "        {\n",
    "            \"role\": \"user\",\n",
    "            \"content\": [\n",
    "                {\"type\": \"text\", \"text\": prompt},\n",
    "                *[\n",
    "                    {\n",
    "                        \"type\": \"image_url\",\n",
    "                        \"image_url\": {\"url\": f\"data:image/png;base64,{img_b64}\"},\n",
    "                    }\n",
    "                    for img_b64 in images_base64\n",
    "                ],\n",
    "            ],\n",
    "        }\n",
    "    ],\n",
    "    response_format=SelectedImageIndex,  # Enforce the integer response schema\n",
    ")\n",
    "\n",
    "# Parse the index from the response\n",
    "chosen_index = response.index"
   ]
  },
  {
   "cell_type": "code",
   "execution_count": 14,
   "metadata": {},
   "outputs": [
    {
     "data": {
      "text/plain": [
       "1"
      ]
     },
     "execution_count": 14,
     "metadata": {},
     "output_type": "execute_result"
    }
   ],
   "source": [
    "chosen_index = response.choices[0].message.parsed.index\n",
    "chosen_index"
   ]
  },
  {
   "cell_type": "code",
   "execution_count": null,
   "metadata": {},
   "outputs": [],
   "source": []
  }
 ],
 "metadata": {
  "kernelspec": {
   "display_name": "baselhack",
   "language": "python",
   "name": "python3"
  },
  "language_info": {
   "codemirror_mode": {
    "name": "ipython",
    "version": 3
   },
   "file_extension": ".py",
   "mimetype": "text/x-python",
   "name": "python",
   "nbconvert_exporter": "python",
   "pygments_lexer": "ipython3",
   "version": "3.9.20"
  }
 },
 "nbformat": 4,
 "nbformat_minor": 2
}
