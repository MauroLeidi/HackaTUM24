{
 "cells": [
  {
   "cell_type": "code",
   "execution_count": 34,
   "metadata": {},
   "outputs": [],
   "source": [
    "import requests\n",
    "\n",
    "# API endpoint\n",
    "url = \"http://127.0.0.1:8000/find-image/\"\n",
    "\n",
    "# Request payload\n",
    "payload = {\n",
    "    \"description\": \"A silver Tesla Cybertruck on the highway\",  # Replace with your desired description\n",
    "    \"nimages\": 5  # Number of images to analyze\n",
    "}\n",
    "\n",
    "# Request headers\n",
    "headers = {\n",
    "    \"Content-Type\": \"application/json\"\n",
    "}\n",
    "\n",
    "# Make the POST request\n",
    "response = requests.post(url, json=payload, headers=headers)\n"
   ]
  },
  {
   "cell_type": "code",
   "execution_count": 35,
   "metadata": {},
   "outputs": [
    {
     "data": {
      "text/plain": [
       "<Response [200]>"
      ]
     },
     "execution_count": 35,
     "metadata": {},
     "output_type": "execute_result"
    }
   ],
   "source": [
    "response"
   ]
  },
  {
   "cell_type": "code",
   "execution_count": null,
   "metadata": {},
   "outputs": [],
   "source": [
    "\n",
    "# Check the response\n",
    "if response.status_code == 200:\n",
    "    print(\"Selected Image Index:\", response.json())\n",
    "else:\n",
    "    print(\"Error:\", response.status_code, response.text)\n"
   ]
  },
  {
   "cell_type": "code",
   "execution_count": 3,
   "metadata": {},
   "outputs": [],
   "source": [
    "import os\n",
    "import requests\n",
    "\n",
    "num_images = 5\n",
    "query = \"A silver Tesla Cybertruck on the highway\""
   ]
  },
  {
   "cell_type": "code",
   "execution_count": 4,
   "metadata": {},
   "outputs": [],
   "source": [
    "BING_API_KEY = os.getenv(\"BING_API_KEY\")\n",
    "\n",
    "search_url = \"https://api.bing.microsoft.com/v7.0/images/search\"\n",
    "headers = {\"Ocp-Apim-Subscription-Key\": BING_API_KEY}\n",
    "params = {\"q\": query, \"count\": num_images}\n",
    "\n",
    "response = requests.get(search_url, headers=headers, params=params)"
   ]
  },
  {
   "cell_type": "code",
   "execution_count": 5,
   "metadata": {},
   "outputs": [
    {
     "data": {
      "text/plain": [
       "<Response [200]>"
      ]
     },
     "execution_count": 5,
     "metadata": {},
     "output_type": "execute_result"
    }
   ],
   "source": [
    "response"
   ]
  },
  {
   "cell_type": "code",
   "execution_count": 6,
   "metadata": {},
   "outputs": [
    {
     "name": "stdout",
     "output_type": "stream",
     "text": [
      "https://static1.hotcarsimages.com/wordpress/wp-content/uploads/2023/04/cybertruck.jpg\n",
      "https://driveteslacanada.ca/wp-content/uploads/2019/12/Cybertruck-spotted.jpeg\n",
      "https://i.kinja-img.com/image/upload/c_fill,h_675,pg_1,q_80,w_1200/a552146a9aa390bea912ba0b3cca99e0.jpg\n",
      "https://s.yimg.com/ny/api/res/1.2/kM_ant_AFlqQAlYEszJCag--/YXBwaWQ9aGlnaGxhbmRlcjt3PTk2MDtoPTY4NA--/https://media.zenfs.com/en/business_insider_articles_888/136f90c113e2054d7fd2ac287f875d7a\n",
      "https://www.carscoops.com/wp-content/uploads/2023/02/Tesla-Cybertruck.jpg\n"
     ]
    },
    {
     "data": {
      "text/plain": [
       "[None, None, None, None, None]"
      ]
     },
     "execution_count": 6,
     "metadata": {},
     "output_type": "execute_result"
    }
   ],
   "source": [
    "results = response.json()\n",
    "image_urls = [img[\"contentUrl\"] for img in results.get(\"value\", [])[:num_images]]\n",
    "[print(url) for url in image_urls]"
   ]
  },
  {
   "cell_type": "code",
   "execution_count": 7,
   "metadata": {},
   "outputs": [],
   "source": [
    "images = []\n",
    "for url in image_urls:\n",
    "    try:\n",
    "        img_data = requests.get(url).content\n",
    "        images.append(img_data)\n",
    "    except Exception:\n",
    "        continue  # Skip if the image can't be downloaded"
   ]
  },
  {
   "cell_type": "code",
   "execution_count": 8,
   "metadata": {},
   "outputs": [],
   "source": [
    "import base64\n",
    "def convert_to_base64(image_data: bytes) -> str:\n",
    "    return base64.b64encode(image_data).decode(\"utf-8\")\n",
    "\n"
   ]
  },
  {
   "cell_type": "code",
   "execution_count": 9,
   "metadata": {},
   "outputs": [],
   "source": [
    "# Step 2: Convert images to base64\n",
    "images_base64 = [convert_to_base64(img) for img in images]"
   ]
  },
  {
   "cell_type": "code",
   "execution_count": 10,
   "metadata": {},
   "outputs": [
    {
     "ename": "NameError",
     "evalue": "name 'request' is not defined",
     "output_type": "error",
     "traceback": [
      "\u001b[0;31m---------------------------------------------------------------------------\u001b[0m",
      "\u001b[0;31mNameError\u001b[0m                                 Traceback (most recent call last)",
      "Cell \u001b[0;32mIn[10], line 3\u001b[0m\n\u001b[1;32m      1\u001b[0m prompt \u001b[38;5;241m=\u001b[39m (\n\u001b[1;32m      2\u001b[0m     \u001b[38;5;124mf\u001b[39m\u001b[38;5;124m\"\u001b[39m\u001b[38;5;124mYou are given \u001b[39m\u001b[38;5;132;01m{\u001b[39;00m\u001b[38;5;28mlen\u001b[39m(images_base64)\u001b[38;5;132;01m}\u001b[39;00m\u001b[38;5;124m images represented as base64 strings, \u001b[39m\u001b[38;5;124m\"\u001b[39m\n\u001b[0;32m----> 3\u001b[0m     \u001b[38;5;124mf\u001b[39m\u001b[38;5;124m\"\u001b[39m\u001b[38;5;124mand a description: \u001b[39m\u001b[38;5;124m'\u001b[39m\u001b[38;5;132;01m{\u001b[39;00mrequest\u001b[38;5;241m.\u001b[39mdescription\u001b[38;5;132;01m}\u001b[39;00m\u001b[38;5;124m'\u001b[39m\u001b[38;5;124m. Analyze the images and select the most relevant \u001b[39m\u001b[38;5;124m\"\u001b[39m\n\u001b[1;32m      4\u001b[0m     \u001b[38;5;124mf\u001b[39m\u001b[38;5;124m\"\u001b[39m\u001b[38;5;124mone based on the description. Respond with the index (0-based) of the chosen image.\u001b[39m\u001b[38;5;124m\"\u001b[39m\n\u001b[1;32m      5\u001b[0m )\n",
      "\u001b[0;31mNameError\u001b[0m: name 'request' is not defined"
     ]
    }
   ],
   "source": [
    "prompt = (\n",
    "    f\"You are given {len(images_base64)} images represented as base64 strings, \"\n",
    "    f\"and a description: '{request.description}'. Analyze the images and select the most relevant \"\n",
    "    f\"one based on the description. Respond with the index (0-based) of the chosen image.\"\n",
    ")"
   ]
  },
  {
   "cell_type": "code",
   "execution_count": 12,
   "metadata": {},
   "outputs": [
    {
     "ename": "AttributeError",
     "evalue": "'ParsedChatCompletion[SelectedImageIndex]' object has no attribute 'index'",
     "output_type": "error",
     "traceback": [
      "\u001b[0;31m---------------------------------------------------------------------------\u001b[0m",
      "\u001b[0;31mAttributeError\u001b[0m                            Traceback (most recent call last)",
      "Cell \u001b[0;32mIn[12], line 33\u001b[0m\n\u001b[1;32m     12\u001b[0m response \u001b[38;5;241m=\u001b[39m client\u001b[38;5;241m.\u001b[39mbeta\u001b[38;5;241m.\u001b[39mchat\u001b[38;5;241m.\u001b[39mcompletions\u001b[38;5;241m.\u001b[39mparse(\n\u001b[1;32m     13\u001b[0m     model\u001b[38;5;241m=\u001b[39m\u001b[38;5;124m\"\u001b[39m\u001b[38;5;124mgpt-4o\u001b[39m\u001b[38;5;124m\"\u001b[39m,\n\u001b[1;32m     14\u001b[0m     messages\u001b[38;5;241m=\u001b[39m[\n\u001b[0;32m   (...)\u001b[0m\n\u001b[1;32m     29\u001b[0m     response_format\u001b[38;5;241m=\u001b[39mSelectedImageIndex,  \u001b[38;5;66;03m# Enforce the integer response schema\u001b[39;00m\n\u001b[1;32m     30\u001b[0m )\n\u001b[1;32m     32\u001b[0m \u001b[38;5;66;03m# Parse the index from the response\u001b[39;00m\n\u001b[0;32m---> 33\u001b[0m chosen_index \u001b[38;5;241m=\u001b[39m \u001b[43mresponse\u001b[49m\u001b[38;5;241;43m.\u001b[39;49m\u001b[43mindex\u001b[49m\n",
      "\u001b[0;31mAttributeError\u001b[0m: 'ParsedChatCompletion[SelectedImageIndex]' object has no attribute 'index'"
     ]
    }
   ],
   "source": [
    "from openai import OpenAI\n",
    "from schemas import SelectedImageIndex,FindImage\n",
    "\n",
    "# Step 3: Prepare prompt and make API call\n",
    "prompt = (\n",
    "    f\"You are given {len(images_base64)} images represented as base64 strings, \"\n",
    "    f\"and a description: '{query}'. Analyze the images and select the most relevant \"\n",
    "    f\"one based on the description. Respond with the index (0-based) of the chosen image.\"\n",
    ")\n",
    "\n",
    "client = OpenAI()  # Instantiate OpenAI client\n",
    "response = client.beta.chat.completions.parse(\n",
    "    model=\"gpt-4o\",\n",
    "    messages=[\n",
    "        {\n",
    "            \"role\": \"user\",\n",
    "            \"content\": [\n",
    "                {\"type\": \"text\", \"text\": prompt},\n",
    "                *[\n",
    "                    {\n",
    "                        \"type\": \"image_url\",\n",
    "                        \"image_url\": {\"url\": f\"data:image/png;base64,{img_b64}\"},\n",
    "                    }\n",
    "                    for img_b64 in images_base64\n",
    "                ],\n",
    "            ],\n",
    "        }\n",
    "    ],\n",
    "    response_format=SelectedImageIndex,  # Enforce the integer response schema\n",
    ")\n",
    "\n",
    "# Parse the index from the response\n",
    "chosen_index = response.index"
   ]
  },
  {
   "cell_type": "code",
   "execution_count": 14,
   "metadata": {},
   "outputs": [
    {
     "data": {
      "text/plain": [
       "1"
      ]
     },
     "execution_count": 14,
     "metadata": {},
     "output_type": "execute_result"
    }
   ],
   "source": [
    "chosen_index = response.choices[0].message.parsed.index\n",
    "chosen_index"
   ]
  },
  {
   "cell_type": "code",
   "execution_count": 1,
   "metadata": {},
   "outputs": [],
   "source": [
    "articles = \"\"\"\n",
    "title = EV targets 'will not be weakened' despite pressure\n",
    "content = Rules on the percentage of electric vehicles (EVs) car firms must sell will not be weakened, the transport secretary has said, despite growing pressure from the industry.\n",
    "\n",
    "The mandate will become tougher next year ahead of a complete ban on new diesel and petrol cars in 2035, but car makers have suggested the rules could threaten jobs.\n",
    "\n",
    "Several senior government ministers and car makers with factories in the UK will hold crunch talks this week about the EV mandate and the slump in car demand.\n",
    "\n",
    "Louise Haigh said she will look at \"flexibilities\", but insisted that \"the mandate will not be weakened\".\n",
    "\n",
    "\"There has been a downturn in demand on a global level so we are absolutely in listening mode - we want to discuss how the current situation is affecting them, but we are not diluting our ambition,\" the transport secretary told LBC Radio on Sunday.\n",
    "\n",
    "\"I’m meeting with Nissan tomorrow and the business secretary, the energy minister and I are meeting with a number of automotive manufacturers later in the week in order to discuss the challenges that they face on a global scale.\"\n",
    "\n",
    "*Industry 'will likely miss' target*\n",
    "According to the mandate, EVs must make up 22% of a firm's car sales and 10% of their van sales this year. For every car sale that pushes it outside of that mandate, they must pay a £15,000 fine.\n",
    "\n",
    "There are some existing workarounds in the rules allowing firms to avoid the fines. They can, for example, buy credits from companies which have EV sales above 22% of their total sales.\n",
    "\n",
    "\"There are flexibilities available to them in the current mandate,\" Haigh told LBC.\n",
    "\n",
    "\"We want to make sure that the flexibilities are appropriate for them... but we absolutely don’t water down our ambition.\"\n",
    "\n",
    "The rules get tougher every year ahead of a complete ban of new petrol and diesel car sales by 2035, though Labour said in its manifesto it would bring this forward to 2030 - reinstating the old target - as part of its wider commitments to climate change policy.\n",
    "\n",
    "The trade association, Society of Motor Manufacturers and Traders (SMMT), has said the industry \"will likely miss\" this year's targets - calculating that around 18% of UK car sales are currently EVs.\n",
    "\n",
    "SMMT and car makers say they support the government's long-term aims, but they are looking for some concessions in this week's talks.\n",
    "\n",
    "One suggestion is that the penalties car makers have to pay for missing the targets should be reduced, the BBC understands.\n",
    "\n",
    "Meanwhile, the SMMT is calling for government grants for buyers of EVs and tax changes.\n",
    "\n",
    "It says changes are needed to deal with the plummet in demand, with its data showing that new car registrations in the UK remain a fifth lower than pre-Covid.\n",
    "\n",
    "A Nissan spokesperson told the BBC it is “committed to playing a full role in the transition to net zero in the UK\", but said \"changes are required now to reflect the reality of the market, as we continue to work together to encourage more drivers to make the switch”.\n",
    "\n",
    "A spokesperson for Stellantis - which owns Citroën, Peugeot, Vauxhall and several other car brands - said it is aligned with the objectives of the mandate.\n",
    "\n",
    "But it added: \"To remain efficient in the UK, we are strategically reviewing our operations working with our union partners as previously announced.\"\n",
    "\n",
    "In April, Stellantis chief executive Carlos Tavares told The Telegraph newspaper the rules were \"terrible\" and that it could force the car maker to reduce its presence in the UK.\n",
    "\n",
    "The Unite union has urged the company to commit to its future at its Luton and Ellesmere Port factories to address the \"fear and rumour\" it has created through announcing the strategic review.\n",
    "\n",
    "Unite added it is \"already having constructive discussions with government and industry to reform the EV mandate to protect jobs\".\n",
    "\"\"\""
   ]
  },
  {
   "cell_type": "code",
   "execution_count": 53,
   "metadata": {},
   "outputs": [
    {
     "name": "stdout",
     "output_type": "stream",
     "text": [
      "<Response [200]>\n"
     ]
    }
   ],
   "source": [
    "import requests\n",
    "\n",
    "# API endpoint\n",
    "url = \"http://127.0.0.1:8000/generate-image-query/\"\n",
    "\n",
    "# Request payload\n",
    "payload = {\n",
    "    \"articles\": articles,  # Replace with your desired description\n",
    "    \"image_url\": ''  # Number of images to analyze\n",
    "}\n",
    "\n",
    "# Request headers\n",
    "headers = {\n",
    "    \"Content-Type\": \"application/json\"\n",
    "}\n",
    "\n",
    "# Make the POST request\n",
    "response = requests.post(url, json=payload, headers=headers)\n",
    "print(response)"
   ]
  },
  {
   "cell_type": "code",
   "execution_count": 54,
   "metadata": {},
   "outputs": [
    {
     "data": {
      "text/plain": [
       "'Search query: \"Electric vehicle mandate UK car industry regulations\"'"
      ]
     },
     "execution_count": 54,
     "metadata": {},
     "output_type": "execute_result"
    }
   ],
   "source": [
    "response.json()['search_query']"
   ]
  },
  {
   "cell_type": "code",
   "execution_count": 2,
   "metadata": {},
   "outputs": [
    {
     "name": "stdout",
     "output_type": "stream",
     "text": [
      "<Response [200]>\n"
     ]
    }
   ],
   "source": [
    "import requests\n",
    "\n",
    "# API endpoint\n",
    "url = \"http://127.0.0.1:8000/generate-full-article/\"\n",
    "\n",
    "# Request payload\n",
    "payload = {\n",
    "    \"articles\": articles,  # Replace with your desired description\n",
    "    \"image_url\": ''  # Number of images to analyze\n",
    "}\n",
    "\n",
    "# Request headers\n",
    "headers = {\n",
    "    \"Content-Type\": \"application/json\"\n",
    "}\n",
    "\n",
    "# Make the POST request\n",
    "response = requests.post(url, json=payload, headers=headers)\n",
    "print(response)"
   ]
  },
  {
   "cell_type": "code",
   "execution_count": null,
   "metadata": {},
   "outputs": [
    {
     "data": {
      "text/plain": [
       "'# UK Government\\'s EV Targets: Commitment Amidst Industry Concerns\\n\\n![image](https://www.transportxtra.com/files/81066-l.jpg)\\n\\nIn the face of intense pressure from automotive manufacturers and economic challenges, UK Transport Secretary Louise Haigh has reaffirmed the government\\'s steadfast commitment to its electric vehicle (EV) mandate. Despite increasing calls to relax these regulations, the government maintains its rigorous standards aimed at transitioning to a greener future.\\n\\n## Toughening Mandates\\n\\nThe current rules demand that car firms ensure EVs comprise at least 22% of their vehicle sales and 10% of vans for this year. This mandate will progressively become stricter, culminating in the complete ban of new petrol and diesel cars by 2035. \\n\\nHaigh emphasized the government\\'s unwavering \"ambition\" in her statement to LBC Radio, declaring that while they are open to discussing the challenges facing the industry globally, the targets will not be \"weakened.\" The Transport Secretary, alongside significant figures such as the Business Secretary and Energy Minister, is engaging with key automotive leaders to assess these global challenges.\\n\\n## Industry Concerns\\n\\nThe Society of Motor Manufacturers and Traders (SMMT) projects that the industry is poised to fall short of this year\\'s benchmarks, with only 18% of UK car sales being EVs as per recent data. The organization advocates for a revised penalty structure and enhanced government incentives, such as buyer grants and tax modifications, to stimulate the market.\\n\\nAutomotive leaders, including Nissan and Stellantis, have voiced their support for the net-zero transition but emphasize the need for realistic changes reflecting current market conditions. Stellantis\\'s executive, Carlos Tavares, previously described the rules as \"terrible,\" suggesting that they might force a reevaluation of their UK operations.\\n\\n## Strategic Reviews and Union Voices\\n\\nThe strategic impact of these mandates has prompted businesses like Stellantis to reassess their UK operations. This has generated a sense of uncertainty, particularly about the future of Stellantis\\'s Luton and Ellesmere Port facilities. The Unite union has called for clarity, while engaging constructively with the government to mitigate potential job risks.\\n\\n## Future Discussions\\n\\nWhile dialog continues between the government and industry stakeholders, the Transport Secretary\\'s stance remains firm. The planned talks will explore \"flexibilities\" within the current rules, such as allowing firms to buy credits from companies exceeding EV sales targets, ensuring a balanced approach that supports climate goals while acknowledging industry concerns.\\n\\nThe UK stands at a pivotal moment in its path towards a sustainable automotive future. As discussions progress, the balance between ambitious environmental targets and economic realities becomes ever more vital. The outcome of these discussions will undoubtedly shape the trajectory of the UK\\'s automotive landscape and its contribution to addressing climate change.'"
      ]
     },
     "execution_count": 3,
     "metadata": {},
     "output_type": "execute_result"
    }
   ],
   "source": [
    "response.json()['article']"
   ]
  },
  {
   "cell_type": "code",
   "execution_count": 4,
   "metadata": {},
   "outputs": [],
   "source": [
    "# save article to local \n",
    "with open('article.txt', 'w') as f:\n",
    "    f.write(response.json()['article'])"
   ]
  },
  {
   "cell_type": "code",
   "execution_count": null,
   "metadata": {},
   "outputs": [],
   "source": []
  }
 ],
 "metadata": {
  "kernelspec": {
   "display_name": "rag",
   "language": "python",
   "name": "python3"
  },
  "language_info": {
   "codemirror_mode": {
    "name": "ipython",
    "version": 3
   },
   "file_extension": ".py",
   "mimetype": "text/x-python",
   "name": "python",
   "nbconvert_exporter": "python",
   "pygments_lexer": "ipython3",
   "version": "3.11.9"
  }
 },
 "nbformat": 4,
 "nbformat_minor": 2
}
