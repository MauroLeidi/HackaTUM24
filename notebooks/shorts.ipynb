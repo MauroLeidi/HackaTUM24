{
 "cells": [
  {
   "cell_type": "code",
   "execution_count": 1,
   "metadata": {},
   "outputs": [],
   "source": [
    "import pandas as pd\n",
    "\n",
    "news_articles = pd.read_csv('data/news_articles.csv')"
   ]
  },
  {
   "cell_type": "code",
   "execution_count": 6,
   "metadata": {},
   "outputs": [],
   "source": [
    "topic = news_articles.iloc[0][\"content\"]"
   ]
  },
  {
   "cell_type": "code",
   "execution_count": 61,
   "metadata": {},
   "outputs": [],
   "source": [
    "topic = '''# Northvolt's Bankruptcy: A Setback for Europe's EV Ambitions\n",
    "\n",
    "In a week that rocked Europe's electric vehicle (EV) industry, the Swedish battery manufacturer Northvolt filed for bankruptcy protection in a New York court. The move, a consequence of a cash flow crisis, has sent ripples through the continent's plans to bolster its battery manufacturing capabilities. Northvolt's troubles come amidst a broader slowdown in EV demand across Europe.\n",
    "\n",
    "## Financial Struggles and Market Dynamics\n",
    "\n",
    "Founded in 2016 by CEO Peter Carlsson, Northvolt rapidly gained a reputation as a shining star in Europe's EV battery production. This perception was bolstered by an aggressive expansion, with more than $15 billion raised from a constellation of investors, including Volkswagen, Goldman Sachs, and BMW. Despite these efforts, Northvolt's current financial status is bleak. The company has declared liabilities amounting to 5.8 billion dollars, with only $30 million in liquid assets left.\n",
    "\n",
    "The unprecedented filing comes as the once-booming EV market begins to wane. Northvolt's restructuring adviser, Scott Millar, noted that the company's business strategies were based on the assumption of sustained growth in the EV sector. Yet, 2023 has seen a decline in sales, exacerbated by economic inflation and consumer hesitancy. Data from Rho Motion indicates a 3 percent decrease in European EV sales, with a particularly steep 18 percent drop in Germany.\n",
    "\n",
    "## A Blow to European Battery Independence\n",
    "\n",
    "Northvolt was conceived as a key player in reducing Europe's dependency on Chinese battery manufacturers such as CATL and BYD. The company's expansion into Germany, including plans for a significant factory in Heide, aligned with these strategic goals. However, the insolvency petition threatens to delay the project, now projected to start cell assembly in late 2027 instead of the previously scheduled end of 2026.\n",
    "\n",
    "The Heide plant delays also cast a shadow over the substantial public funding allocated to the project. The EU Commission had approved over 902 million euros for the factory, with additional support from Germany's federal and Schleswig-Holstein regional governments. Yet no state funds have been dispersed, pending resolution of Northvolt's restructuring.\n",
    "\n",
    "## Navigating the Road Ahead\n",
    "\n",
    "Despite the turmoil, Northvolt remains optimistic about its future. The company envisions completing its reorganization by the first quarter of 2025, maintaining operations throughout this period. Volkswagen has reaffirmed its continued collaboration with the troubled firm, while Scania has extended a $100 million loan to sustain battery cell production in Skellefteå, Northvolt's main site.\n",
    "\n",
    "Nevertheless, the current situation underscores the fragility of Europe's ambitions to cultivate a thriving battery industry. Ambitious startups like Northvolt face myriad challenges, from predicting consumer trends accurately to navigating the complex landscape of industrial finance.\n",
    "\n",
    "## Conclusion\n",
    "\n",
    "As Northvolt reorganizes under Chapter 11 protection, the broader European battery industry must reckon with potential repercussions. The EV market is in flux, with consumer demand proving difficult to predict and financial markets growing more risk-averse. The coming months will be crucial for Northvolt and its stakeholders, whose support remains pivotal for a successful turnaround.\n",
    "\n",
    "The narrative of Northvolt's struggle is a reminder of the volatility innate to high-stakes technological ventures. As Europe endeavors to assert greater autonomy in battery production, the experience of Northvolt may pave the way for refined strategies, mindful of both market dynamics and the critical role of stable financing.'''"
   ]
  },
  {
   "cell_type": "code",
   "execution_count": 62,
   "metadata": {},
   "outputs": [],
   "source": [
    "# create pydantic class with texts\n",
    "from pydantic import BaseModel\n",
    "from typing import List\n",
    "\n",
    "class Texts(BaseModel):\n",
    "    text: str\n",
    "\n",
    "class NewsArticle(BaseModel):\n",
    "    output: List[Texts]\n",
    "\n"
   ]
  },
  {
   "cell_type": "code",
   "execution_count": 63,
   "metadata": {},
   "outputs": [],
   "source": [
    "from openai import OpenAI\n",
    "from dotenv import load_dotenv\n",
    "\n",
    "load_dotenv()\n",
    "def generate_voiceover_texts(topic):\n",
    "    \"\"\"\n",
    "    Generate four captivating sentences about a topic using OpenAI's GPT-4.\n",
    "    \n",
    "    Args:\n",
    "        topic (str): The topic to generate sentences about\n",
    "    \"\"\"\n",
    "    client = OpenAI()\n",
    "    \n",
    "    prompt = f\"\"\"Create 4 captivating, emotionally engaging short sentences about the news below. Requirements:\n",
    "     - Each sentence MUST be 10-15 words maximum\n",
    "    - Use active voice and strong verbs\n",
    "    - Focus on one key point per sentence\n",
    "    - Avoid complex clauses or conjunctions\n",
    "    - Include details and numbers where relevant\n",
    "    - End with a powerful message or call to action\n",
    "    \n",
    "    Format the output as 4 separate sentences.\n",
    "    \n",
    "    Example flow:\n",
    "    [\"Introduction and hook\", \"Key benefits or developments\", \"Practical impact or application\", \"Future outlook and call to action\"]\n",
    "    \n",
    "    News:\n",
    "    {topic}\"\"\"\n",
    "\n",
    "    response = client.beta.chat.completions.parse(\n",
    "        model=\"gpt-4o\",\n",
    "        messages=[\n",
    "            {\"role\": \"system\", \"content\": \"You are an expert storyteller and marketing copywriter.\"},\n",
    "            {\"role\": \"user\", \"content\": prompt}\n",
    "        ],\n",
    "        response_format=NewsArticle\n",
    "    )\n",
    "    \n",
    "    # Split the response into individual sentences\n",
    "    json_str = response.choices[0].message.parsed\n",
    "    return json_str.output"
   ]
  },
  {
   "cell_type": "code",
   "execution_count": 64,
   "metadata": {},
   "outputs": [],
   "source": [
    "texts = generate_voiceover_texts(topic)"
   ]
  },
  {
   "cell_type": "code",
   "execution_count": 65,
   "metadata": {},
   "outputs": [
    {
     "data": {
      "text/plain": [
       "[\"Northvolt's bankruptcy challenges Europe's drive for electric vehicle battery independence.\",\n",
       " \"Their $15 billion investment dreams shattered amid Europe's slowing EV demand by 3%.\",\n",
       " \"Delays in Northvolt's projects threaten Germany's crucial battery manufacturing aspirations.\",\n",
       " 'Europe must confront its dependency on foreign batteries and revise strategic plans.']"
      ]
     },
     "execution_count": 65,
     "metadata": {},
     "output_type": "execute_result"
    }
   ],
   "source": [
    "voiceover_texts = [text.text for text in texts]\n",
    "voiceover_texts"
   ]
  },
  {
   "cell_type": "code",
   "execution_count": 66,
   "metadata": {},
   "outputs": [
    {
     "name": "stdout",
     "output_type": "stream",
     "text": [
      "[{'id': 'd6a339c9-b84d-4168-9627-b494915d759f', 'status': 'planned', 'url': 'https://cdn.creatomate.com/renders/d6a339c9-b84d-4168-9627-b494915d759f.mp4', 'snapshot_url': 'https://cdn.creatomate.com/snapshots/d6a339c9-b84d-4168-9627-b494915d759f.jpg', 'template_id': '16dcc861-b57e-41ac-a83e-ba5623697051', 'template_name': 'Short-Form Voice Over', 'template_tags': [], 'output_format': 'mp4', 'modifications': {'Image-1': 'https://creatomate.com/files/assets/6e448991-32c0-46ff-9043-d0a74fd99b41', 'Image-2': 'https://creatomate.com/files/assets/0f1547eb-647e-429c-a04a-b414d2e2657b', 'Image-3': 'https://creatomate.com/files/assets/08ffb646-af54-4e91-9b38-3eae161fb770', 'Image-4': 'https://creatomate.com/files/assets/e0063a09-ab39-4a41-9c11-359cb339a3db', 'Voiceover-1': \"Northvolt's bankruptcy challenges Europe's drive for electric vehicle battery independence.\", 'Voiceover-2': \"Their $15 billion investment dreams shattered amid Europe's slowing EV demand by 3%.\", 'Voiceover-3': \"Delays in Northvolt's projects threaten Germany's crucial battery manufacturing aspirations.\", 'Voiceover-4': 'Europe must confront its dependency on foreign batteries and revise strategic plans.'}}]\n"
     ]
    }
   ],
   "source": [
    "import requests\n",
    "import os\n",
    "from dotenv import load_dotenv\n",
    "\n",
    "load_dotenv()\n",
    "\n",
    "def create_render(texts):\n",
    "    \"\"\"\n",
    "    Create a render using the Creatomate API with a list of voiceover texts.\n",
    "    \n",
    "    Args:\n",
    "        texts (list): List of 4 strings for voiceover texts\n",
    "    \"\"\"\n",
    "    url = \"https://api.creatomate.com/v1/renders\"\n",
    "    headers = {\n",
    "       \"Authorization\": f\"Bearer {os.getenv('CREATOMATE_API_KEY')}\",\n",
    "        \"Content-Type\": \"application/json\"\n",
    "    }\n",
    "    \n",
    "    # Define the image URLs\n",
    "    images = {\n",
    "        \"Image-1\": \"https://creatomate.com/files/assets/6e448991-32c0-46ff-9043-d0a74fd99b41\",\n",
    "        \"Image-2\": \"https://creatomate.com/files/assets/0f1547eb-647e-429c-a04a-b414d2e2657b\",\n",
    "        \"Image-3\": \"https://creatomate.com/files/assets/08ffb646-af54-4e91-9b38-3eae161fb770\",\n",
    "        \"Image-4\": \"https://creatomate.com/files/assets/e0063a09-ab39-4a41-9c11-359cb339a3db\",\n",
    "    }\n",
    "\n",
    "    \n",
    "    # Create modifications dictionary combining images and voiceovers\n",
    "    modifications = {\n",
    "        **images,  # Unpack the images dictionary\n",
    "        **{f\"Voiceover-{i+1}\": text for i, text in enumerate(texts)}  # Add voiceover texts\n",
    "    }\n",
    "    \n",
    "    payload = {\n",
    "        \"template_id\": \"16dcc861-b57e-41ac-a83e-ba5623697051\",\n",
    "        \"modifications\": modifications\n",
    "    }\n",
    "    \n",
    "    response = requests.post(url, headers=headers, json=payload)\n",
    "    return response.json()\n",
    "\n",
    "# Make the API call\n",
    "result = create_render(voiceover_texts)\n",
    "print(result)"
   ]
  },
  {
   "cell_type": "code",
   "execution_count": null,
   "metadata": {},
   "outputs": [],
   "source": []
  }
 ],
 "metadata": {
  "kernelspec": {
   "display_name": "rag",
   "language": "python",
   "name": "python3"
  },
  "language_info": {
   "codemirror_mode": {
    "name": "ipython",
    "version": 3
   },
   "file_extension": ".py",
   "mimetype": "text/x-python",
   "name": "python",
   "nbconvert_exporter": "python",
   "pygments_lexer": "ipython3",
   "version": "3.11.9"
  }
 },
 "nbformat": 4,
 "nbformat_minor": 2
}
